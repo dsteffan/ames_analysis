{
 "cells": [
  {
   "cell_type": "markdown",
   "metadata": {},
   "source": [
    "<a id = \"top\"></a>\n",
    "# Predictions Demonstration\n",
    "\n",
    "---\n",
    "\n",
    "Welcome to the demonstrations notebook! If you find yourself here, first click \"Cell\" then \"Run All\". Then click <a href = \"#pred\">HERE</a> and feel free to start making predictions of your own!\n",
    "\n",
    "#### Other Notebooks\n",
    "- [Cleaning and EDA](cleaning_and_EDA.ipynb)\n",
    "- [Modeling](modeling.ipynb)\n",
    "- [Additional Modeling](adtl_modeling.ipynb)\n",
    "- [Presentation Prep](presentation_prep.ipynb)"
   ]
  },
  {
   "cell_type": "code",
   "execution_count": 172,
   "metadata": {},
   "outputs": [],
   "source": [
    "import numpy as np\n",
    "import pandas as pd\n",
    "import matplotlib.pyplot as plt\n",
    "\n",
    "from sklearn.linear_model import LinearRegression\n",
    "from sklearn.model_selection import cross_val_score\n",
    "\n",
    "%matplotlib inline"
   ]
  },
  {
   "cell_type": "code",
   "execution_count": 173,
   "metadata": {},
   "outputs": [],
   "source": [
    "ames = pd.read_csv(\"../datasets/ames_plus.csv\")"
   ]
  },
  {
   "cell_type": "code",
   "execution_count": 174,
   "metadata": {},
   "outputs": [],
   "source": [
    "features = [\"total_sq_ft\", \"age\", \"kitchen_qual\", \"bsmt_qual\", \"garage_cars\"]"
   ]
  },
  {
   "cell_type": "code",
   "execution_count": 175,
   "metadata": {},
   "outputs": [
    {
     "data": {
      "text/plain": [
       "0.8106088549905086"
      ]
     },
     "execution_count": 175,
     "metadata": {},
     "output_type": "execute_result"
    }
   ],
   "source": [
    "X = ames[features]\n",
    "y = ames[\"saleprice\"]\n",
    "\n",
    "mlr_model = LinearRegression()\n",
    "mlr_model = mlr_model.fit(X, y)\n",
    "\n",
    "intercept = mlr_model.intercept_\n",
    "\n",
    "mlr_model.score(X, y)"
   ]
  },
  {
   "cell_type": "code",
   "execution_count": 176,
   "metadata": {},
   "outputs": [
    {
     "data": {
      "text/plain": [
       "0.8095004582225671"
      ]
     },
     "execution_count": 176,
     "metadata": {},
     "output_type": "execute_result"
    }
   ],
   "source": [
    "cross_val_score(mlr_model, X, y, cv = 5).mean()"
   ]
  },
  {
   "cell_type": "code",
   "execution_count": 177,
   "metadata": {},
   "outputs": [
    {
     "data": {
      "text/html": [
       "<div>\n",
       "<style scoped>\n",
       "    .dataframe tbody tr th:only-of-type {\n",
       "        vertical-align: middle;\n",
       "    }\n",
       "\n",
       "    .dataframe tbody tr th {\n",
       "        vertical-align: top;\n",
       "    }\n",
       "\n",
       "    .dataframe thead th {\n",
       "        text-align: right;\n",
       "    }\n",
       "</style>\n",
       "<table border=\"1\" class=\"dataframe\">\n",
       "  <thead>\n",
       "    <tr style=\"text-align: right;\">\n",
       "      <th></th>\n",
       "      <th>feature</th>\n",
       "      <th>mlr_coefs</th>\n",
       "    </tr>\n",
       "  </thead>\n",
       "  <tbody>\n",
       "    <tr>\n",
       "      <th>0</th>\n",
       "      <td>total_sq_ft</td>\n",
       "      <td>56.675486</td>\n",
       "    </tr>\n",
       "    <tr>\n",
       "      <th>1</th>\n",
       "      <td>age</td>\n",
       "      <td>-282.355827</td>\n",
       "    </tr>\n",
       "    <tr>\n",
       "      <th>2</th>\n",
       "      <td>kitchen_qual</td>\n",
       "      <td>30395.625164</td>\n",
       "    </tr>\n",
       "    <tr>\n",
       "      <th>3</th>\n",
       "      <td>bsmt_qual</td>\n",
       "      <td>4995.360010</td>\n",
       "    </tr>\n",
       "    <tr>\n",
       "      <th>4</th>\n",
       "      <td>garage_cars</td>\n",
       "      <td>13276.081937</td>\n",
       "    </tr>\n",
       "  </tbody>\n",
       "</table>\n",
       "</div>"
      ],
      "text/plain": [
       "        feature     mlr_coefs\n",
       "0   total_sq_ft     56.675486\n",
       "1           age   -282.355827\n",
       "2  kitchen_qual  30395.625164\n",
       "3     bsmt_qual   4995.360010\n",
       "4   garage_cars  13276.081937"
      ]
     },
     "execution_count": 177,
     "metadata": {},
     "output_type": "execute_result"
    }
   ],
   "source": [
    "coefs = pd.DataFrame()\n",
    "coefs[\"feature\"] = features\n",
    "coefs[\"mlr_coefs\"] = mlr_model.coef_\n",
    "coefs"
   ]
  },
  {
   "cell_type": "code",
   "execution_count": 178,
   "metadata": {},
   "outputs": [],
   "source": [
    "def make_prediction(sq_ft, age, kit, bsmt, cars):\n",
    "    df = pd.DataFrame({\n",
    "        \"total_sq_ft\": [sq_ft],\n",
    "        \"age\": [age],\n",
    "        \"kitchen_qual\": [kit],\n",
    "        \"bsmt_qual\": [bsmt],\n",
    "        \"garage_cars\": [cars]\n",
    "    })\n",
    "    \n",
    "#     print(f\"With {sq_ft} square feet...\")\n",
    "#     print(f\"{age} years old...\")\n",
    "#     print(f\"A kitchen quality of {kit}...\")\n",
    "#     print(f\"A basement quality of {bsmt}...\")      \n",
    "#     print(f\"And {cars} cars in the garage...\")\n",
    "#     print(\"Your dream home will cost only\", int(mlr_model.predict(df)), \"dollars!\")\n",
    "    return int(mlr_model.predict(df))"
   ]
  },
  {
   "cell_type": "code",
   "execution_count": 179,
   "metadata": {},
   "outputs": [
    {
     "data": {
      "text/plain": [
       "144943"
      ]
     },
     "execution_count": 179,
     "metadata": {},
     "output_type": "execute_result"
    }
   ],
   "source": [
    "# Finding the price of Jimmy's house!\n",
    "\n",
    "make_prediction(2000, 5, 3, 3, 2)"
   ]
  },
  {
   "cell_type": "code",
   "execution_count": 180,
   "metadata": {},
   "outputs": [
    {
     "data": {
      "text/plain": [
       "998.9134230758852"
      ]
     },
     "execution_count": 180,
     "metadata": {},
     "output_type": "execute_result"
    }
   ],
   "source": [
    "# Calculating the age of Jimathy's house using his budget of 144,943 dollars!\n",
    "\n",
    "ph = ((56.67548555 * 5000) + (30395.62516387 * 5) + (4995.36001 * 5) + (13276.08193661 * 5) + intercept - 144943)\n",
    "ph / 282.35582703"
   ]
  },
  {
   "cell_type": "markdown",
   "metadata": {},
   "source": [
    "<a id = \"pred\"></a>\n",
    "\n",
    "### Choose your own features here!"
   ]
  },
  {
   "cell_type": "code",
   "execution_count": 185,
   "metadata": {},
   "outputs": [
    {
     "data": {
      "image/png": "[encoded data removed]",
      "text/plain": [
       "<Figure size 576x432 with 1 Axes>"
      ]
     },
     "metadata": {
      "needs_background": "light"
     },
     "output_type": "display_data"
    }
   ],
   "source": [
    "# Change these values to your liking, then press Shift and Enter to run!\n",
    "\n",
    "dream_home = {\n",
    "    \n",
    "    \"SquareFootage\": 2000,\n",
    "    \n",
    "    \"Age\": 5,\n",
    "    \n",
    "    \"KitchenQuality\": 3, \n",
    "    \n",
    "    \"BasementQuality\": 3,\n",
    "    \n",
    "    \"GarageCars\": 2\n",
    "    \n",
    "    }\n",
    "\n",
    "pred = make_prediction(dream_home[\"SquareFootage\"], \n",
    "                       dream_home[\"Age\"], \n",
    "                       dream_home[\"KitchenQuality\"], \n",
    "                       dream_home[\"BasementQuality\"], \n",
    "                       dream_home[\"GarageCars\"])\n",
    "\n",
    "# Code adapted from data viz lecture\n",
    "plt.figure(figsize=(8, 6))\n",
    "\n",
    "plt.text(x = 0.5,                              # at horizontal = 0.5\n",
    "         y = 0.99,                              # at vertical = 0.9\n",
    "         s = f\"With {dream_home['SquareFootage']} square feet...\",\n",
    "         ha = 'center',                        # center-aligned horizontally\n",
    "         va = 'center',                        # center-aligned vertically\n",
    "         size = 30,                            # font size = 35\n",
    "         alpha = 0.6)                          # alpha = 0.6 --> 60% opaque; 40% clear\n",
    "\n",
    "plt.text(x = 0.5,                              # at horizontal = 0.5\n",
    "         y = 0.86,                              # at vertical = 0.9\n",
    "         s = f\"{dream_home['Age']} years old...\",\n",
    "         ha = 'center',                        # center-aligned horizontally\n",
    "         va = 'center',                        # center-aligned vertically\n",
    "         size = 30,                            # font size = 35\n",
    "         alpha = 0.6)                          # alpha = 0.6 --> 60% opaque; 40% clear\n",
    "\n",
    "plt.text(x = 0.5,                              # at horizontal = 0.5\n",
    "         y = 0.73,                              # at vertical = 0.9\n",
    "         s = f\"A kitchen quality of {dream_home['KitchenQuality']}...\",\n",
    "         ha = 'center',                        # center-aligned horizontally\n",
    "         va = 'center',                        # center-aligned vertically\n",
    "         size = 30,                            # font size = 35\n",
    "         alpha = 0.6)                          # alpha = 0.6 --> 60% opaque; 40% clear\n",
    "\n",
    "plt.text(x = 0.5,                              # at horizontal = 0.5\n",
    "         y = 0.60,                              # at vertical = 0.9\n",
    "         s = f\"A basement quality of {dream_home['BasementQuality']}...\",\n",
    "         ha = 'center',                        # center-aligned horizontally\n",
    "         va = 'center',                        # center-aligned vertically\n",
    "         size = 30,                            # font size = 35\n",
    "         alpha = 0.6)                          # alpha = 0.6 --> 60% opaque; 40% clear\n",
    "\n",
    "plt.text(x = 0.5,                              # at horizontal = 0.5\n",
    "         y = 0.47,                              # at vertical = 0.9\n",
    "         s = f\"And {dream_home['GarageCars']} cars in the garage...\",\n",
    "         ha = 'center',                        # center-aligned horizontally\n",
    "         va = 'center',                        # center-aligned vertically\n",
    "         size = 30,                            # font size = 35\n",
    "         alpha = 0.6)                          # alpha = 0.6 --> 60% opaque; 40% clear\n",
    "\n",
    "plt.text(x = 0.5,                              # at horizontal = 0.5\n",
    "         y = 0.34,                              # at vertical = 0.9\n",
    "         s = \"Your dream home will cost only...\",\n",
    "         ha = 'center',                        # center-aligned horizontally\n",
    "         va = 'center',                        # center-aligned vertically\n",
    "         size = 30,                            # font size = 35\n",
    "         alpha = 0.6)                          # alpha = 0.6 --> 60% opaque; 40% clear\n",
    "\n",
    "plt.text(x = 0.5,\n",
    "         y = 0.09,\n",
    "         s = \"$\" + str(pred) + \"!\",\n",
    "         ha = 'center',\n",
    "         va = 'center',\n",
    "         size = 100,\n",
    "         alpha = 1)\n",
    "\n",
    "plt.axis('off');"
   ]
  },
  {
   "cell_type": "markdown",
   "metadata": {},
   "source": [
    "---\n",
    "- [Back to top](#top)"
   ]
  }
 ],
 "metadata": {
  "kernelspec": {
   "display_name": "Python 3",
   "language": "python",
   "name": "python3"
  },
  "language_info": {
   "codemirror_mode": {
    "name": "ipython",
    "version": 3
   },
   "file_extension": ".py",
   "mimetype": "text/x-python",
   "name": "python",
   "nbconvert_exporter": "python",
   "pygments_lexer": "ipython3",
   "version": "3.6.8"
  }
 },
 "nbformat": 4,
 "nbformat_minor": 2
}
