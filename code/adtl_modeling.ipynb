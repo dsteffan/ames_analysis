{
 "cells": [
  {
   "cell_type": "markdown",
   "metadata": {},
   "source": [
    "<a id = \"top\"></a>\n",
    "# Additional Modeling"
   ]
  },
  {
   "cell_type": "markdown",
   "metadata": {},
   "source": [
    "<a id=\"home\"></a>\n",
    "\n",
    "---\n",
    "This notebook is about better modeling for kaggle submissions. This whole notebook ended up being a waste of time.\n",
    "\n",
    "#### Other Notebooks\n",
    "\n",
    "- [Cleaning and EDA](cleaning_and_EDA.ipynb)\n",
    "- [Modeling](modeling.ipynb)\n",
    "- [Presentation Prep](presentation_prep.ipynb)"
   ]
  },
  {
   "cell_type": "code",
   "execution_count": 353,
   "metadata": {},
   "outputs": [],
   "source": [
    "import numpy as np\n",
    "import pandas as pd\n",
    "import matplotlib.pyplot as plt\n",
    "import seaborn as sns\n",
    "\n",
    "from sklearn.linear_model import LinearRegression, Ridge, Lasso, ElasticNet, RidgeCV, LassoCV, ElasticNetCV\n",
    "from sklearn.model_selection import train_test_split, KFold, cross_val_score\n",
    "from sklearn.metrics import r2_score\n",
    "from sklearn.preprocessing import PowerTransformer, StandardScaler, PolynomialFeatures\n",
    "\n",
    "%matplotlib inline"
   ]
  },
  {
   "cell_type": "code",
   "execution_count": 354,
   "metadata": {},
   "outputs": [],
   "source": [
    "# Importing the enhanced dataset as ames\n",
    "ames = pd.read_csv(\"../datasets/ames_plus.csv\")\n",
    "ames_test = pd.read_csv(\"../datasets/ames_test.csv\")"
   ]
  },
  {
   "cell_type": "code",
   "execution_count": 355,
   "metadata": {},
   "outputs": [
    {
     "data": {
      "text/html": [
       "<div>\n",
       "<style scoped>\n",
       "    .dataframe tbody tr th:only-of-type {\n",
       "        vertical-align: middle;\n",
       "    }\n",
       "\n",
       "    .dataframe tbody tr th {\n",
       "        vertical-align: top;\n",
       "    }\n",
       "\n",
       "    .dataframe thead th {\n",
       "        text-align: right;\n",
       "    }\n",
       "</style>\n",
       "<table border=\"1\" class=\"dataframe\">\n",
       "  <thead>\n",
       "    <tr style=\"text-align: right;\">\n",
       "      <th></th>\n",
       "      <th>lot_frontage</th>\n",
       "      <th>lot_area</th>\n",
       "      <th>lot_shape</th>\n",
       "      <th>utilities</th>\n",
       "      <th>land_slope</th>\n",
       "      <th>overall_qual</th>\n",
       "      <th>overall_cond</th>\n",
       "      <th>mas_vnr_area</th>\n",
       "      <th>exter_qual</th>\n",
       "      <th>exter_cond</th>\n",
       "      <th>...</th>\n",
       "      <th>sale_type_WD</th>\n",
       "      <th>ms_subclass</th>\n",
       "      <th>roof_matl_Metal</th>\n",
       "      <th>roof_matl_Roll</th>\n",
       "      <th>exterior_1st_PreCast</th>\n",
       "      <th>exterior_2nd_Other</th>\n",
       "      <th>exterior_2nd_PreCast</th>\n",
       "      <th>mas_vnr_type_CBlock</th>\n",
       "      <th>heating_Floor</th>\n",
       "      <th>sale_type_VWD</th>\n",
       "    </tr>\n",
       "  </thead>\n",
       "  <tbody>\n",
       "    <tr>\n",
       "      <th>0</th>\n",
       "      <td>68.0</td>\n",
       "      <td>13517</td>\n",
       "      <td>2</td>\n",
       "      <td>3</td>\n",
       "      <td>2</td>\n",
       "      <td>6</td>\n",
       "      <td>8</td>\n",
       "      <td>289.0</td>\n",
       "      <td>4</td>\n",
       "      <td>3</td>\n",
       "      <td>...</td>\n",
       "      <td>1</td>\n",
       "      <td>0</td>\n",
       "      <td>0</td>\n",
       "      <td>0</td>\n",
       "      <td>0</td>\n",
       "      <td>0</td>\n",
       "      <td>0</td>\n",
       "      <td>0</td>\n",
       "      <td>0</td>\n",
       "      <td>0</td>\n",
       "    </tr>\n",
       "    <tr>\n",
       "      <th>1</th>\n",
       "      <td>43.0</td>\n",
       "      <td>11492</td>\n",
       "      <td>2</td>\n",
       "      <td>3</td>\n",
       "      <td>2</td>\n",
       "      <td>7</td>\n",
       "      <td>5</td>\n",
       "      <td>132.0</td>\n",
       "      <td>4</td>\n",
       "      <td>3</td>\n",
       "      <td>...</td>\n",
       "      <td>1</td>\n",
       "      <td>0</td>\n",
       "      <td>0</td>\n",
       "      <td>0</td>\n",
       "      <td>0</td>\n",
       "      <td>0</td>\n",
       "      <td>0</td>\n",
       "      <td>0</td>\n",
       "      <td>0</td>\n",
       "      <td>0</td>\n",
       "    </tr>\n",
       "    <tr>\n",
       "      <th>2</th>\n",
       "      <td>68.0</td>\n",
       "      <td>7922</td>\n",
       "      <td>3</td>\n",
       "      <td>3</td>\n",
       "      <td>2</td>\n",
       "      <td>5</td>\n",
       "      <td>7</td>\n",
       "      <td>0.0</td>\n",
       "      <td>3</td>\n",
       "      <td>4</td>\n",
       "      <td>...</td>\n",
       "      <td>1</td>\n",
       "      <td>0</td>\n",
       "      <td>0</td>\n",
       "      <td>0</td>\n",
       "      <td>0</td>\n",
       "      <td>0</td>\n",
       "      <td>0</td>\n",
       "      <td>0</td>\n",
       "      <td>0</td>\n",
       "      <td>0</td>\n",
       "    </tr>\n",
       "    <tr>\n",
       "      <th>3</th>\n",
       "      <td>73.0</td>\n",
       "      <td>9802</td>\n",
       "      <td>3</td>\n",
       "      <td>3</td>\n",
       "      <td>2</td>\n",
       "      <td>5</td>\n",
       "      <td>5</td>\n",
       "      <td>0.0</td>\n",
       "      <td>3</td>\n",
       "      <td>3</td>\n",
       "      <td>...</td>\n",
       "      <td>1</td>\n",
       "      <td>0</td>\n",
       "      <td>0</td>\n",
       "      <td>0</td>\n",
       "      <td>0</td>\n",
       "      <td>0</td>\n",
       "      <td>0</td>\n",
       "      <td>0</td>\n",
       "      <td>0</td>\n",
       "      <td>0</td>\n",
       "    </tr>\n",
       "    <tr>\n",
       "      <th>4</th>\n",
       "      <td>82.0</td>\n",
       "      <td>14235</td>\n",
       "      <td>2</td>\n",
       "      <td>3</td>\n",
       "      <td>2</td>\n",
       "      <td>6</td>\n",
       "      <td>8</td>\n",
       "      <td>0.0</td>\n",
       "      <td>3</td>\n",
       "      <td>3</td>\n",
       "      <td>...</td>\n",
       "      <td>1</td>\n",
       "      <td>0</td>\n",
       "      <td>0</td>\n",
       "      <td>0</td>\n",
       "      <td>0</td>\n",
       "      <td>0</td>\n",
       "      <td>0</td>\n",
       "      <td>0</td>\n",
       "      <td>0</td>\n",
       "      <td>0</td>\n",
       "    </tr>\n",
       "  </tbody>\n",
       "</table>\n",
       "<p>5 rows × 239 columns</p>\n",
       "</div>"
      ],
      "text/plain": [
       "   lot_frontage  lot_area  lot_shape  utilities  land_slope  overall_qual  \\\n",
       "0          68.0     13517          2          3           2             6   \n",
       "1          43.0     11492          2          3           2             7   \n",
       "2          68.0      7922          3          3           2             5   \n",
       "3          73.0      9802          3          3           2             5   \n",
       "4          82.0     14235          2          3           2             6   \n",
       "\n",
       "   overall_cond  mas_vnr_area  exter_qual  exter_cond  ...  sale_type_WD   \\\n",
       "0             8         289.0           4           3  ...              1   \n",
       "1             5         132.0           4           3  ...              1   \n",
       "2             7           0.0           3           4  ...              1   \n",
       "3             5           0.0           3           3  ...              1   \n",
       "4             8           0.0           3           3  ...              1   \n",
       "\n",
       "   ms_subclass  roof_matl_Metal  roof_matl_Roll  exterior_1st_PreCast  \\\n",
       "0            0                0               0                     0   \n",
       "1            0                0               0                     0   \n",
       "2            0                0               0                     0   \n",
       "3            0                0               0                     0   \n",
       "4            0                0               0                     0   \n",
       "\n",
       "   exterior_2nd_Other  exterior_2nd_PreCast  mas_vnr_type_CBlock  \\\n",
       "0                   0                     0                    0   \n",
       "1                   0                     0                    0   \n",
       "2                   0                     0                    0   \n",
       "3                   0                     0                    0   \n",
       "4                   0                     0                    0   \n",
       "\n",
       "   heating_Floor  sale_type_VWD  \n",
       "0              0              0  \n",
       "1              0              0  \n",
       "2              0              0  \n",
       "3              0              0  \n",
       "4              0              0  \n",
       "\n",
       "[5 rows x 239 columns]"
      ]
     },
     "execution_count": 355,
     "metadata": {},
     "output_type": "execute_result"
    }
   ],
   "source": [
    "ames.head()"
   ]
  },
  {
   "cell_type": "code",
   "execution_count": 356,
   "metadata": {},
   "outputs": [
    {
     "data": {
      "text/plain": [
       "0"
      ]
     },
     "execution_count": 356,
     "metadata": {},
     "output_type": "execute_result"
    }
   ],
   "source": [
    "features = list(ames.columns.drop(\"saleprice\"))\n",
    "\n",
    "ames[features].isna().sum().sum()"
   ]
  },
  {
   "cell_type": "code",
   "execution_count": 357,
   "metadata": {},
   "outputs": [],
   "source": [
    "X = ames[features]\n",
    "y = ames[\"saleprice\"]"
   ]
  },
  {
   "cell_type": "code",
   "execution_count": 358,
   "metadata": {},
   "outputs": [],
   "source": [
    "X_train, X_test, y_train, y_test = train_test_split(X, \n",
    "                                                    y, \n",
    "                                                    random_state = 35, \n",
    "                                                    test_size = 0.25)"
   ]
  },
  {
   "cell_type": "code",
   "execution_count": 359,
   "metadata": {},
   "outputs": [
    {
     "name": "stderr",
     "output_type": "stream",
     "text": [
      "/anaconda3/lib/python3.6/site-packages/numpy/core/_methods.py:121: RuntimeWarning: overflow encountered in multiply\n",
      "  x = um.multiply(x, x, out=x)\n",
      "/anaconda3/lib/python3.6/site-packages/numpy/core/_methods.py:122: RuntimeWarning: overflow encountered in reduce\n",
      "  ret = umr_sum(x, axis, dtype, out, keepdims)\n",
      "/anaconda3/lib/python3.6/site-packages/sklearn/preprocessing/data.py:2798: RuntimeWarning: divide by zero encountered in log\n",
      "  loglike = -n_samples / 2 * np.log(x_trans.var())\n"
     ]
    }
   ],
   "source": [
    "# Feature preprocessing\n",
    "\n",
    "pt_X = PowerTransformer()\n",
    "pt_X.fit(X_train)\n",
    "X_train = pt_X.transform(X_train)\n",
    "X_test = pt_X.transform(X_test)\n",
    "\n",
    "pt_y = PowerTransformer()\n",
    "pt_y.fit(y_train.to_frame()) \n",
    "y_train = pt_y.transform(y_train.to_frame())\n",
    "y_test = pt_y.transform(y_test.to_frame())"
   ]
  },
  {
   "cell_type": "code",
   "execution_count": 360,
   "metadata": {},
   "outputs": [],
   "source": [
    "ss = StandardScaler()\n",
    "\n",
    "ss.fit(X_train)\n",
    "\n",
    "X_train_scaled = ss.transform(X_train)\n",
    "X_test_scaled = ss.transform(X_test)"
   ]
  },
  {
   "cell_type": "code",
   "execution_count": 361,
   "metadata": {},
   "outputs": [
    {
     "data": {
      "text/plain": [
       "-2.416147561458674e+23"
      ]
     },
     "execution_count": 361,
     "metadata": {},
     "output_type": "execute_result"
    }
   ],
   "source": [
    "# Linear regression\n",
    "\n",
    "mlr_model = LinearRegression()\n",
    "mlr_model.fit(X_train_scaled, y_train)\n",
    "\n",
    "cross_val_score(mlr_model, X_train_scaled, y_train, cv = 5).mean()"
   ]
  },
  {
   "cell_type": "code",
   "execution_count": 362,
   "metadata": {},
   "outputs": [
    {
     "data": {
      "text/plain": [
       "0.9175444398667467"
      ]
     },
     "execution_count": 362,
     "metadata": {},
     "output_type": "execute_result"
    }
   ],
   "source": [
    "# Ridge regression\n",
    "\n",
    "ridge = RidgeCV(alphas = np.logspace(0, 5, 100), scoring = \"r2\", cv = 5)\n",
    "ridge = ridge.fit(X_train_scaled, y_train)\n",
    "\n",
    "ridge_model = Ridge(alpha = ridge.alpha_)\n",
    "ridge_model.fit(X_train_scaled, y_train)\n",
    "\n",
    "cross_val_score(ridge_model, X_train_scaled, y_train, cv = 5).mean()"
   ]
  },
  {
   "cell_type": "code",
   "execution_count": 363,
   "metadata": {},
   "outputs": [
    {
     "name": "stderr",
     "output_type": "stream",
     "text": [
      "/anaconda3/lib/python3.6/site-packages/sklearn/linear_model/coordinate_descent.py:1109: DataConversionWarning: A column-vector y was passed when a 1d array was expected. Please change the shape of y to (n_samples, ), for example using ravel().\n",
      "  y = column_or_1d(y, warn=True)\n"
     ]
    },
    {
     "data": {
      "text/plain": [
       "0.9208750675900138"
      ]
     },
     "execution_count": 363,
     "metadata": {},
     "output_type": "execute_result"
    }
   ],
   "source": [
    "# Lasso regression\n",
    "\n",
    "lasso = LassoCV(cv = 5)\n",
    "lasso = lasso.fit(X_train_scaled, y_train)\n",
    "\n",
    "lasso_model = Lasso(alpha = lasso.alpha_)\n",
    "lasso_model.fit(X_train_scaled, y_train)\n",
    "\n",
    "cross_val_score(lasso_model, X_train_scaled, y_train, cv = 5).mean()"
   ]
  },
  {
   "cell_type": "code",
   "execution_count": 364,
   "metadata": {},
   "outputs": [
    {
     "name": "stderr",
     "output_type": "stream",
     "text": [
      "/anaconda3/lib/python3.6/site-packages/sklearn/linear_model/coordinate_descent.py:1109: DataConversionWarning: A column-vector y was passed when a 1d array was expected. Please change the shape of y to (n_samples, ), for example using ravel().\n",
      "  y = column_or_1d(y, warn=True)\n"
     ]
    },
    {
     "name": "stdout",
     "output_type": "stream",
     "text": [
      "0.1\n",
      "0.1\n"
     ]
    },
    {
     "data": {
      "text/plain": [
       "0.918679354154922"
      ]
     },
     "execution_count": 364,
     "metadata": {},
     "output_type": "execute_result"
    }
   ],
   "source": [
    "# ElasticNet regression\n",
    "\n",
    "enet_alphas = np.linspace(0.1, 1.0, 100)\n",
    "enet_ratio = np.linspace(0.1, 1.0, 100)\n",
    "\n",
    "enet = ElasticNetCV(alphas = enet_alphas, l1_ratio = enet_ratio, cv = 5)\n",
    "enet.fit(X_train_scaled, y_train)\n",
    "\n",
    "print(enet.alpha_)\n",
    "print(enet.l1_ratio_)\n",
    "\n",
    "enet_model = ElasticNet(alpha = enet.alpha_, l1_ratio = enet.l1_ratio_)\n",
    "enet_model.fit(X_train_scaled, y_train)\n",
    "\n",
    "cross_val_score(enet_model, X_train_scaled, y_train, cv = 5).mean()"
   ]
  },
  {
   "cell_type": "code",
   "execution_count": 365,
   "metadata": {},
   "outputs": [
    {
     "name": "stdout",
     "output_type": "stream",
     "text": [
      "Linear: -2.416147561458674e+23\n",
      "Ridge: 0.9175444398667467\n",
      "Lasso: 0.9208750675900138\n",
      "ElasticNet: 0.918679354154922\n"
     ]
    }
   ],
   "source": [
    "print(f\"Linear: {cross_val_score(mlr_model, X_train_scaled, y_train, cv = 5).mean()}\")\n",
    "\n",
    "print(f\"Ridge: {cross_val_score(ridge_model, X_train_scaled, y_train, cv = 5).mean()}\")\n",
    "\n",
    "print(f\"Lasso: {cross_val_score(lasso_model, X_train_scaled, y_train, cv = 5).mean()}\")\n",
    "\n",
    "print(f\"ElasticNet: {cross_val_score(enet_model, X_train_scaled, y_train, cv = 5).mean()}\")"
   ]
  },
  {
   "cell_type": "code",
   "execution_count": 366,
   "metadata": {},
   "outputs": [
    {
     "name": "stdout",
     "output_type": "stream",
     "text": [
      "Linear: -2.558515331084935e+24\n",
      "Ridge: 0.8632853471728955\n",
      "Lasso: 0.8210557827207055\n",
      "ElasticNet: 0.8565181659533894\n"
     ]
    }
   ],
   "source": [
    "print(f\"Linear: {cross_val_score(mlr_model, X_test_scaled, y_test, cv = 5).mean()}\")\n",
    "\n",
    "print(f\"Ridge: {cross_val_score(ridge_model, X_test_scaled, y_test, cv = 5).mean()}\")\n",
    "\n",
    "print(f\"Lasso: {cross_val_score(lasso_model, X_test_scaled, y_test, cv = 5).mean()}\")\n",
    "\n",
    "print(f\"ElasticNet: {cross_val_score(enet_model, X_test_scaled, y_test, cv = 5).mean()}\")"
   ]
  },
  {
   "cell_type": "code",
   "execution_count": 367,
   "metadata": {
    "scrolled": true
   },
   "outputs": [
    {
     "name": "stdout",
     "output_type": "stream",
     "text": [
      "Linear: -2.8492414847417624e+21\n",
      "Ridge: 0.9059544952370429\n",
      "Lasso: 0.9089605981024389\n",
      "ElasticNet: 0.9109817686979281\n"
     ]
    }
   ],
   "source": [
    "print(f\"Linear: {mlr_model.score(X_test_scaled, y_test)}\")\n",
    "\n",
    "print(f\"Ridge: {ridge_model.score(X_test_scaled, y_test)}\")\n",
    "\n",
    "print(f\"Lasso: {lasso_model.score(X_test_scaled, y_test)}\")\n",
    "\n",
    "print(f\"ElasticNet: {enet_model.score(X_test_scaled, y_test)}\")"
   ]
  },
  {
   "cell_type": "code",
   "execution_count": 368,
   "metadata": {},
   "outputs": [
    {
     "data": {
      "text/plain": [
       "0"
      ]
     },
     "execution_count": 368,
     "metadata": {},
     "output_type": "execute_result"
    }
   ],
   "source": [
    "submission = pd.DataFrame()\n",
    "submission[\"Id\"] = ames_test[\"id\"]\n",
    "\n",
    "ames_test[features].isna().sum().sum()"
   ]
  },
  {
   "cell_type": "code",
   "execution_count": 369,
   "metadata": {},
   "outputs": [
    {
     "data": {
      "text/html": [
       "<div>\n",
       "<style scoped>\n",
       "    .dataframe tbody tr th:only-of-type {\n",
       "        vertical-align: middle;\n",
       "    }\n",
       "\n",
       "    .dataframe tbody tr th {\n",
       "        vertical-align: top;\n",
       "    }\n",
       "\n",
       "    .dataframe thead th {\n",
       "        text-align: right;\n",
       "    }\n",
       "</style>\n",
       "<table border=\"1\" class=\"dataframe\">\n",
       "  <thead>\n",
       "    <tr style=\"text-align: right;\">\n",
       "      <th></th>\n",
       "      <th>Id</th>\n",
       "      <th>SalePrice</th>\n",
       "    </tr>\n",
       "  </thead>\n",
       "  <tbody>\n",
       "    <tr>\n",
       "      <th>0</th>\n",
       "      <td>2658</td>\n",
       "      <td>130499.436423</td>\n",
       "    </tr>\n",
       "    <tr>\n",
       "      <th>1</th>\n",
       "      <td>2718</td>\n",
       "      <td>155817.923901</td>\n",
       "    </tr>\n",
       "    <tr>\n",
       "      <th>2</th>\n",
       "      <td>2414</td>\n",
       "      <td>229563.512171</td>\n",
       "    </tr>\n",
       "    <tr>\n",
       "      <th>3</th>\n",
       "      <td>1989</td>\n",
       "      <td>101108.093828</td>\n",
       "    </tr>\n",
       "    <tr>\n",
       "      <th>4</th>\n",
       "      <td>625</td>\n",
       "      <td>171214.149553</td>\n",
       "    </tr>\n",
       "  </tbody>\n",
       "</table>\n",
       "</div>"
      ],
      "text/plain": [
       "     Id      SalePrice\n",
       "0  2658  130499.436423\n",
       "1  2718  155817.923901\n",
       "2  2414  229563.512171\n",
       "3  1989  101108.093828\n",
       "4   625  171214.149553"
      ]
     },
     "execution_count": 369,
     "metadata": {},
     "output_type": "execute_result"
    }
   ],
   "source": [
    "test_X = ames_test[features]\n",
    "test_X = pt_X.transform(test_X)\n",
    "test_X = ss.transform(test_X)\n",
    "\n",
    "predictions = lasso_model.predict(test_X)\n",
    "\n",
    "submission[\"SalePrice\"] = pt_y.inverse_transform(predictions.reshape(-1,1))\n",
    "\n",
    "submission.head()"
   ]
  },
  {
   "cell_type": "code",
   "execution_count": 370,
   "metadata": {},
   "outputs": [],
   "source": [
    "submission.to_csv(\"../datasets/submissions/submission_5.csv\", index = False)"
   ]
  },
  {
   "cell_type": "markdown",
   "metadata": {},
   "source": [
    "> MSE, as calculated by Kaggle: 39215.62850. Higher variance than in other models, likely due to the over 200 features. It seems that Lasso regression can help with but not solve overfitting. Note that I have tweaked the data and the code a bit since submitting so this is likely not the same data set actually used for submissions."
   ]
  },
  {
   "cell_type": "code",
   "execution_count": 371,
   "metadata": {},
   "outputs": [
    {
     "data": {
      "text/plain": [
       "0.004736175548611098"
      ]
     },
     "execution_count": 371,
     "metadata": {},
     "output_type": "execute_result"
    }
   ],
   "source": [
    "lasso.alpha_"
   ]
  },
  {
   "cell_type": "code",
   "execution_count": 372,
   "metadata": {},
   "outputs": [],
   "source": [
    "lm_coefs = lasso_model.coef_"
   ]
  },
  {
   "cell_type": "code",
   "execution_count": 373,
   "metadata": {},
   "outputs": [],
   "source": [
    "coefs = pd.DataFrame()\n",
    "\n",
    "coefs[\"feature\"] = features\n",
    "\n",
    "coefs[\"lasso_coefs_pt\"] = lm_coefs\n",
    "\n",
    "coefs[\"lasso_coefs_pt_abs\"] = abs(lm_coefs)"
   ]
  },
  {
   "cell_type": "code",
   "execution_count": 374,
   "metadata": {
    "scrolled": true
   },
   "outputs": [
    {
     "data": {
      "text/html": [
       "<div>\n",
       "<style scoped>\n",
       "    .dataframe tbody tr th:only-of-type {\n",
       "        vertical-align: middle;\n",
       "    }\n",
       "\n",
       "    .dataframe tbody tr th {\n",
       "        vertical-align: top;\n",
       "    }\n",
       "\n",
       "    .dataframe thead th {\n",
       "        text-align: right;\n",
       "    }\n",
       "</style>\n",
       "<table border=\"1\" class=\"dataframe\">\n",
       "  <thead>\n",
       "    <tr style=\"text-align: right;\">\n",
       "      <th></th>\n",
       "      <th>feature</th>\n",
       "      <th>lasso_coefs_pt</th>\n",
       "      <th>lasso_coefs_pt_abs</th>\n",
       "    </tr>\n",
       "  </thead>\n",
       "  <tbody>\n",
       "    <tr>\n",
       "      <th>52</th>\n",
       "      <td>total_sq_ft</td>\n",
       "      <td>0.196108</td>\n",
       "      <td>0.196108</td>\n",
       "    </tr>\n",
       "    <tr>\n",
       "      <th>5</th>\n",
       "      <td>overall_qual</td>\n",
       "      <td>0.192267</td>\n",
       "      <td>0.192267</td>\n",
       "    </tr>\n",
       "    <tr>\n",
       "      <th>24</th>\n",
       "      <td>gr_liv_area</td>\n",
       "      <td>0.183725</td>\n",
       "      <td>0.183725</td>\n",
       "    </tr>\n",
       "    <tr>\n",
       "      <th>53</th>\n",
       "      <td>age</td>\n",
       "      <td>-0.138941</td>\n",
       "      <td>0.138941</td>\n",
       "    </tr>\n",
       "    <tr>\n",
       "      <th>6</th>\n",
       "      <td>overall_cond</td>\n",
       "      <td>0.124723</td>\n",
       "      <td>0.124723</td>\n",
       "    </tr>\n",
       "    <tr>\n",
       "      <th>1</th>\n",
       "      <td>lot_area</td>\n",
       "      <td>0.097769</td>\n",
       "      <td>0.097769</td>\n",
       "    </tr>\n",
       "    <tr>\n",
       "      <th>14</th>\n",
       "      <td>bsmtfin_sf_1</td>\n",
       "      <td>0.052372</td>\n",
       "      <td>0.052372</td>\n",
       "    </tr>\n",
       "    <tr>\n",
       "      <th>10</th>\n",
       "      <td>bsmt_qual</td>\n",
       "      <td>0.044975</td>\n",
       "      <td>0.044975</td>\n",
       "    </tr>\n",
       "    <tr>\n",
       "      <th>38</th>\n",
       "      <td>garage_cars</td>\n",
       "      <td>0.040999</td>\n",
       "      <td>0.040999</td>\n",
       "    </tr>\n",
       "    <tr>\n",
       "      <th>36</th>\n",
       "      <td>garage_yr_blt</td>\n",
       "      <td>0.040918</td>\n",
       "      <td>0.040918</td>\n",
       "    </tr>\n",
       "    <tr>\n",
       "      <th>111</th>\n",
       "      <td>neighborhood_NridgHt</td>\n",
       "      <td>0.039401</td>\n",
       "      <td>0.039401</td>\n",
       "    </tr>\n",
       "    <tr>\n",
       "      <th>102</th>\n",
       "      <td>neighborhood_GrnHill</td>\n",
       "      <td>0.038733</td>\n",
       "      <td>0.038733</td>\n",
       "    </tr>\n",
       "    <tr>\n",
       "      <th>164</th>\n",
       "      <td>exterior_1st_BrkFace</td>\n",
       "      <td>0.038626</td>\n",
       "      <td>0.038626</td>\n",
       "    </tr>\n",
       "    <tr>\n",
       "      <th>25</th>\n",
       "      <td>bsmt_full_bath</td>\n",
       "      <td>0.035390</td>\n",
       "      <td>0.035390</td>\n",
       "    </tr>\n",
       "    <tr>\n",
       "      <th>17</th>\n",
       "      <td>bsmt_unf_sf</td>\n",
       "      <td>-0.035211</td>\n",
       "      <td>0.035211</td>\n",
       "    </tr>\n",
       "    <tr>\n",
       "      <th>33</th>\n",
       "      <td>functional</td>\n",
       "      <td>0.031922</td>\n",
       "      <td>0.031922</td>\n",
       "    </tr>\n",
       "    <tr>\n",
       "      <th>98</th>\n",
       "      <td>neighborhood_Crawfor</td>\n",
       "      <td>0.031362</td>\n",
       "      <td>0.031362</td>\n",
       "    </tr>\n",
       "    <tr>\n",
       "      <th>203</th>\n",
       "      <td>heating_Grav</td>\n",
       "      <td>-0.030677</td>\n",
       "      <td>0.030677</td>\n",
       "    </tr>\n",
       "    <tr>\n",
       "      <th>40</th>\n",
       "      <td>garage_qual</td>\n",
       "      <td>0.029128</td>\n",
       "      <td>0.029128</td>\n",
       "    </tr>\n",
       "    <tr>\n",
       "      <th>226</th>\n",
       "      <td>sale_type_New</td>\n",
       "      <td>0.028163</td>\n",
       "      <td>0.028163</td>\n",
       "    </tr>\n",
       "    <tr>\n",
       "      <th>42</th>\n",
       "      <td>paved_drive</td>\n",
       "      <td>0.027858</td>\n",
       "      <td>0.027858</td>\n",
       "    </tr>\n",
       "    <tr>\n",
       "      <th>117</th>\n",
       "      <td>neighborhood_StoneBr</td>\n",
       "      <td>0.026995</td>\n",
       "      <td>0.026995</td>\n",
       "    </tr>\n",
       "    <tr>\n",
       "      <th>72</th>\n",
       "      <td>ms_zoning_C (all)</td>\n",
       "      <td>-0.026765</td>\n",
       "      <td>0.026765</td>\n",
       "    </tr>\n",
       "    <tr>\n",
       "      <th>110</th>\n",
       "      <td>neighborhood_NoRidge</td>\n",
       "      <td>0.026195</td>\n",
       "      <td>0.026195</td>\n",
       "    </tr>\n",
       "    <tr>\n",
       "      <th>34</th>\n",
       "      <td>fireplaces</td>\n",
       "      <td>0.026123</td>\n",
       "      <td>0.026123</td>\n",
       "    </tr>\n",
       "    <tr>\n",
       "      <th>120</th>\n",
       "      <td>condition_1_Artery</td>\n",
       "      <td>-0.026082</td>\n",
       "      <td>0.026082</td>\n",
       "    </tr>\n",
       "    <tr>\n",
       "      <th>31</th>\n",
       "      <td>kitchen_qual</td>\n",
       "      <td>0.025557</td>\n",
       "      <td>0.025557</td>\n",
       "    </tr>\n",
       "    <tr>\n",
       "      <th>12</th>\n",
       "      <td>bsmt_exposure</td>\n",
       "      <td>0.024432</td>\n",
       "      <td>0.024432</td>\n",
       "    </tr>\n",
       "    <tr>\n",
       "      <th>77</th>\n",
       "      <td>ms_zoning_RM</td>\n",
       "      <td>-0.023374</td>\n",
       "      <td>0.023374</td>\n",
       "    </tr>\n",
       "    <tr>\n",
       "      <th>47</th>\n",
       "      <td>screen_porch</td>\n",
       "      <td>0.023200</td>\n",
       "      <td>0.023200</td>\n",
       "    </tr>\n",
       "    <tr>\n",
       "      <th>19</th>\n",
       "      <td>heating_qc</td>\n",
       "      <td>0.022664</td>\n",
       "      <td>0.022664</td>\n",
       "    </tr>\n",
       "    <tr>\n",
       "      <th>0</th>\n",
       "      <td>lot_frontage</td>\n",
       "      <td>0.022463</td>\n",
       "      <td>0.022463</td>\n",
       "    </tr>\n",
       "    <tr>\n",
       "      <th>54</th>\n",
       "      <td>age_remod</td>\n",
       "      <td>-0.019651</td>\n",
       "      <td>0.019651</td>\n",
       "    </tr>\n",
       "    <tr>\n",
       "      <th>163</th>\n",
       "      <td>exterior_1st_BrkComm</td>\n",
       "      <td>-0.019621</td>\n",
       "      <td>0.019621</td>\n",
       "    </tr>\n",
       "    <tr>\n",
       "      <th>116</th>\n",
       "      <td>neighborhood_Somerst</td>\n",
       "      <td>0.019030</td>\n",
       "      <td>0.019030</td>\n",
       "    </tr>\n",
       "    <tr>\n",
       "      <th>154</th>\n",
       "      <td>roof_style_Mansard</td>\n",
       "      <td>-0.018325</td>\n",
       "      <td>0.018325</td>\n",
       "    </tr>\n",
       "    <tr>\n",
       "      <th>8</th>\n",
       "      <td>exter_qual</td>\n",
       "      <td>0.018069</td>\n",
       "      <td>0.018069</td>\n",
       "    </tr>\n",
       "    <tr>\n",
       "      <th>61</th>\n",
       "      <td>ms_subclass_30</td>\n",
       "      <td>-0.017781</td>\n",
       "      <td>0.017781</td>\n",
       "    </tr>\n",
       "    <tr>\n",
       "      <th>227</th>\n",
       "      <td>sale_type_Oth</td>\n",
       "      <td>0.017537</td>\n",
       "      <td>0.017537</td>\n",
       "    </tr>\n",
       "    <tr>\n",
       "      <th>99</th>\n",
       "      <td>neighborhood_Edwards</td>\n",
       "      <td>-0.017490</td>\n",
       "      <td>0.017490</td>\n",
       "    </tr>\n",
       "    <tr>\n",
       "      <th>21</th>\n",
       "      <td>1st_flr_sf</td>\n",
       "      <td>0.017434</td>\n",
       "      <td>0.017434</td>\n",
       "    </tr>\n",
       "    <tr>\n",
       "      <th>15</th>\n",
       "      <td>bsmtfin_type_2</td>\n",
       "      <td>-0.017111</td>\n",
       "      <td>0.017111</td>\n",
       "    </tr>\n",
       "    <tr>\n",
       "      <th>18</th>\n",
       "      <td>total_bsmt_sf</td>\n",
       "      <td>0.015092</td>\n",
       "      <td>0.015092</td>\n",
       "    </tr>\n",
       "    <tr>\n",
       "      <th>96</th>\n",
       "      <td>neighborhood_ClearCr</td>\n",
       "      <td>0.014730</td>\n",
       "      <td>0.014730</td>\n",
       "    </tr>\n",
       "    <tr>\n",
       "      <th>198</th>\n",
       "      <td>foundation_Slab</td>\n",
       "      <td>0.014650</td>\n",
       "      <td>0.014650</td>\n",
       "    </tr>\n",
       "    <tr>\n",
       "      <th>220</th>\n",
       "      <td>sale_type_COD</td>\n",
       "      <td>-0.014050</td>\n",
       "      <td>0.014050</td>\n",
       "    </tr>\n",
       "    <tr>\n",
       "      <th>137</th>\n",
       "      <td>bldg_type_1Fam</td>\n",
       "      <td>0.013991</td>\n",
       "      <td>0.013991</td>\n",
       "    </tr>\n",
       "    <tr>\n",
       "      <th>176</th>\n",
       "      <td>exterior_2nd_AsbShng</td>\n",
       "      <td>-0.013447</td>\n",
       "      <td>0.013447</td>\n",
       "    </tr>\n",
       "    <tr>\n",
       "      <th>30</th>\n",
       "      <td>kitchen_abvgr</td>\n",
       "      <td>-0.013372</td>\n",
       "      <td>0.013372</td>\n",
       "    </tr>\n",
       "    <tr>\n",
       "      <th>43</th>\n",
       "      <td>wood_deck_sf</td>\n",
       "      <td>0.013020</td>\n",
       "      <td>0.013020</td>\n",
       "    </tr>\n",
       "    <tr>\n",
       "      <th>126</th>\n",
       "      <td>condition_1_RRAn</td>\n",
       "      <td>-0.012716</td>\n",
       "      <td>0.012716</td>\n",
       "    </tr>\n",
       "    <tr>\n",
       "      <th>95</th>\n",
       "      <td>neighborhood_BrkSide</td>\n",
       "      <td>0.012480</td>\n",
       "      <td>0.012480</td>\n",
       "    </tr>\n",
       "    <tr>\n",
       "      <th>153</th>\n",
       "      <td>roof_style_Hip</td>\n",
       "      <td>0.012043</td>\n",
       "      <td>0.012043</td>\n",
       "    </tr>\n",
       "    <tr>\n",
       "      <th>191</th>\n",
       "      <td>mas_vnr_type_BrkCmn</td>\n",
       "      <td>-0.011616</td>\n",
       "      <td>0.011616</td>\n",
       "    </tr>\n",
       "    <tr>\n",
       "      <th>124</th>\n",
       "      <td>condition_1_PosN</td>\n",
       "      <td>0.011334</td>\n",
       "      <td>0.011334</td>\n",
       "    </tr>\n",
       "    <tr>\n",
       "      <th>105</th>\n",
       "      <td>neighborhood_MeadowV</td>\n",
       "      <td>-0.011153</td>\n",
       "      <td>0.011153</td>\n",
       "    </tr>\n",
       "    <tr>\n",
       "      <th>125</th>\n",
       "      <td>condition_1_RRAe</td>\n",
       "      <td>-0.010761</td>\n",
       "      <td>0.010761</td>\n",
       "    </tr>\n",
       "    <tr>\n",
       "      <th>29</th>\n",
       "      <td>bedroom_abvgr</td>\n",
       "      <td>-0.010394</td>\n",
       "      <td>0.010394</td>\n",
       "    </tr>\n",
       "    <tr>\n",
       "      <th>169</th>\n",
       "      <td>exterior_1st_MetalSd</td>\n",
       "      <td>0.010170</td>\n",
       "      <td>0.010170</td>\n",
       "    </tr>\n",
       "    <tr>\n",
       "      <th>123</th>\n",
       "      <td>condition_1_PosA</td>\n",
       "      <td>0.009030</td>\n",
       "      <td>0.009030</td>\n",
       "    </tr>\n",
       "  </tbody>\n",
       "</table>\n",
       "</div>"
      ],
      "text/plain": [
       "                  feature  lasso_coefs_pt  lasso_coefs_pt_abs\n",
       "52            total_sq_ft        0.196108            0.196108\n",
       "5            overall_qual        0.192267            0.192267\n",
       "24            gr_liv_area        0.183725            0.183725\n",
       "53                    age       -0.138941            0.138941\n",
       "6            overall_cond        0.124723            0.124723\n",
       "1                lot_area        0.097769            0.097769\n",
       "14           bsmtfin_sf_1        0.052372            0.052372\n",
       "10              bsmt_qual        0.044975            0.044975\n",
       "38            garage_cars        0.040999            0.040999\n",
       "36          garage_yr_blt        0.040918            0.040918\n",
       "111  neighborhood_NridgHt        0.039401            0.039401\n",
       "102  neighborhood_GrnHill        0.038733            0.038733\n",
       "164  exterior_1st_BrkFace        0.038626            0.038626\n",
       "25         bsmt_full_bath        0.035390            0.035390\n",
       "17            bsmt_unf_sf       -0.035211            0.035211\n",
       "33             functional        0.031922            0.031922\n",
       "98   neighborhood_Crawfor        0.031362            0.031362\n",
       "203          heating_Grav       -0.030677            0.030677\n",
       "40            garage_qual        0.029128            0.029128\n",
       "226         sale_type_New        0.028163            0.028163\n",
       "42            paved_drive        0.027858            0.027858\n",
       "117  neighborhood_StoneBr        0.026995            0.026995\n",
       "72      ms_zoning_C (all)       -0.026765            0.026765\n",
       "110  neighborhood_NoRidge        0.026195            0.026195\n",
       "34             fireplaces        0.026123            0.026123\n",
       "120    condition_1_Artery       -0.026082            0.026082\n",
       "31           kitchen_qual        0.025557            0.025557\n",
       "12          bsmt_exposure        0.024432            0.024432\n",
       "77           ms_zoning_RM       -0.023374            0.023374\n",
       "47           screen_porch        0.023200            0.023200\n",
       "19             heating_qc        0.022664            0.022664\n",
       "0            lot_frontage        0.022463            0.022463\n",
       "54              age_remod       -0.019651            0.019651\n",
       "163  exterior_1st_BrkComm       -0.019621            0.019621\n",
       "116  neighborhood_Somerst        0.019030            0.019030\n",
       "154    roof_style_Mansard       -0.018325            0.018325\n",
       "8              exter_qual        0.018069            0.018069\n",
       "61         ms_subclass_30       -0.017781            0.017781\n",
       "227         sale_type_Oth        0.017537            0.017537\n",
       "99   neighborhood_Edwards       -0.017490            0.017490\n",
       "21             1st_flr_sf        0.017434            0.017434\n",
       "15         bsmtfin_type_2       -0.017111            0.017111\n",
       "18          total_bsmt_sf        0.015092            0.015092\n",
       "96   neighborhood_ClearCr        0.014730            0.014730\n",
       "198       foundation_Slab        0.014650            0.014650\n",
       "220         sale_type_COD       -0.014050            0.014050\n",
       "137        bldg_type_1Fam        0.013991            0.013991\n",
       "176  exterior_2nd_AsbShng       -0.013447            0.013447\n",
       "30          kitchen_abvgr       -0.013372            0.013372\n",
       "43           wood_deck_sf        0.013020            0.013020\n",
       "126      condition_1_RRAn       -0.012716            0.012716\n",
       "95   neighborhood_BrkSide        0.012480            0.012480\n",
       "153        roof_style_Hip        0.012043            0.012043\n",
       "191   mas_vnr_type_BrkCmn       -0.011616            0.011616\n",
       "124      condition_1_PosN        0.011334            0.011334\n",
       "105  neighborhood_MeadowV       -0.011153            0.011153\n",
       "125      condition_1_RRAe       -0.010761            0.010761\n",
       "29          bedroom_abvgr       -0.010394            0.010394\n",
       "169  exterior_1st_MetalSd        0.010170            0.010170\n",
       "123      condition_1_PosA        0.009030            0.009030"
      ]
     },
     "execution_count": 374,
     "metadata": {},
     "output_type": "execute_result"
    }
   ],
   "source": [
    "coefs.sort_values(by = \"lasso_coefs_pt_abs\", ascending = False).head(60)"
   ]
  },
  {
   "cell_type": "code",
   "execution_count": 375,
   "metadata": {},
   "outputs": [],
   "source": [
    "features = coefs.sort_values(by = \"lasso_coefs_pt_abs\", ascending = False).head(50)[\"feature\"]"
   ]
  },
  {
   "cell_type": "markdown",
   "metadata": {},
   "source": [
    "### Narrowing down the list of features by only selecting the top features from the last regression model"
   ]
  },
  {
   "cell_type": "code",
   "execution_count": 376,
   "metadata": {},
   "outputs": [],
   "source": [
    "# # OPtional code to reset features back to whole data set.\n",
    "# # Do not run if using polynomial scaling, for your computer's sake!\n",
    "\n",
    "# features = list(ames.columns.drop(\"saleprice\"))\n",
    "\n",
    "# ames[features].isna().sum().sum()"
   ]
  },
  {
   "cell_type": "code",
   "execution_count": 377,
   "metadata": {},
   "outputs": [],
   "source": [
    "X = ames[features]\n",
    "y = ames[\"saleprice\"]"
   ]
  },
  {
   "cell_type": "code",
   "execution_count": 378,
   "metadata": {},
   "outputs": [],
   "source": [
    "X_train, X_test, y_train, y_test = train_test_split(X, \n",
    "                                                    y, \n",
    "                                                    random_state = 35, \n",
    "                                                    test_size = 0.25)"
   ]
  },
  {
   "cell_type": "code",
   "execution_count": 379,
   "metadata": {},
   "outputs": [
    {
     "name": "stderr",
     "output_type": "stream",
     "text": [
      "/anaconda3/lib/python3.6/site-packages/sklearn/preprocessing/data.py:645: DataConversionWarning: Data with input dtype int64, float64 were all converted to float64 by StandardScaler.\n",
      "  return self.partial_fit(X, y)\n",
      "/anaconda3/lib/python3.6/site-packages/ipykernel_launcher.py:5: DataConversionWarning: Data with input dtype int64, float64 were all converted to float64 by StandardScaler.\n",
      "  \"\"\"\n",
      "/anaconda3/lib/python3.6/site-packages/ipykernel_launcher.py:6: DataConversionWarning: Data with input dtype int64, float64 were all converted to float64 by StandardScaler.\n",
      "  \n"
     ]
    }
   ],
   "source": [
    "ss = StandardScaler()\n",
    "\n",
    "ss.fit(X_train)\n",
    "\n",
    "X_train_scaled = ss.transform(X_train)\n",
    "X_test_scaled = ss.transform(X_test)"
   ]
  },
  {
   "cell_type": "code",
   "execution_count": 380,
   "metadata": {},
   "outputs": [],
   "source": [
    "# Feature preprocessing\n",
    "\n",
    "pt_X = PowerTransformer()\n",
    "pt_X.fit(X_train_scaled)\n",
    "X_train_scaled = pt_X.transform(X_train_scaled)\n",
    "X_test_scaled = pt_X.transform(X_test_scaled)\n",
    "\n",
    "pt_y = PowerTransformer()\n",
    "pt_y.fit(y_train.to_frame()) \n",
    "y_train = pt_y.transform(y_train.to_frame())\n",
    "y_test = pt_y.transform(y_test.to_frame())"
   ]
  },
  {
   "cell_type": "code",
   "execution_count": 381,
   "metadata": {},
   "outputs": [],
   "source": [
    "# # Code adapted from regularization lecture code\n",
    "# # Be careful with this code! Make sure you are not using full dataset!\n",
    "\n",
    "# # Instantiate our PolynomialFeatures object to create all two-way terms.\n",
    "# poly = PolynomialFeatures(degree=2,\n",
    "#                           interaction_only=False,\n",
    "#                           include_bias=False)\n",
    "\n",
    "# # Fit and transform our X data.\n",
    "# X_train_scaled = poly.fit_transform(X_train_scaled)\n",
    "# X_test_scaled = poly.transform(X_test_scaled)"
   ]
  },
  {
   "cell_type": "code",
   "execution_count": 382,
   "metadata": {},
   "outputs": [
    {
     "data": {
      "text/plain": [
       "0.9231327276976268"
      ]
     },
     "execution_count": 382,
     "metadata": {},
     "output_type": "execute_result"
    }
   ],
   "source": [
    "# Linear regression\n",
    "\n",
    "mlr_model = LinearRegression()\n",
    "mlr_model.fit(X_train_scaled, y_train)\n",
    "\n",
    "cross_val_score(mlr_model, X_train_scaled, y_train, cv = 5).mean()"
   ]
  },
  {
   "cell_type": "code",
   "execution_count": 383,
   "metadata": {},
   "outputs": [
    {
     "data": {
      "text/plain": [
       "0.9237811573769836"
      ]
     },
     "execution_count": 383,
     "metadata": {},
     "output_type": "execute_result"
    }
   ],
   "source": [
    "# Ridge regression\n",
    "\n",
    "ridge = RidgeCV(alphas = np.logspace(0, 5, 100), scoring = \"r2\", cv = 5)\n",
    "ridge = ridge.fit(X_train_scaled, y_train)\n",
    "\n",
    "ridge_model = Ridge(alpha = ridge.alpha_)\n",
    "ridge_model.fit(X_train_scaled, y_train)\n",
    "\n",
    "cross_val_score(ridge_model, X_train_scaled, y_train, cv = 5).mean()"
   ]
  },
  {
   "cell_type": "code",
   "execution_count": 384,
   "metadata": {},
   "outputs": [
    {
     "name": "stderr",
     "output_type": "stream",
     "text": [
      "/anaconda3/lib/python3.6/site-packages/sklearn/linear_model/coordinate_descent.py:1109: DataConversionWarning: A column-vector y was passed when a 1d array was expected. Please change the shape of y to (n_samples, ), for example using ravel().\n",
      "  y = column_or_1d(y, warn=True)\n"
     ]
    },
    {
     "data": {
      "text/plain": [
       "0.923306601201696"
      ]
     },
     "execution_count": 384,
     "metadata": {},
     "output_type": "execute_result"
    }
   ],
   "source": [
    "# Lasso regression\n",
    "\n",
    "lasso = LassoCV(cv = 5)\n",
    "lasso = lasso.fit(X_train_scaled, y_train)\n",
    "\n",
    "lasso_model = Lasso(alpha = lasso.alpha_)\n",
    "lasso_model.fit(X_train_scaled, y_train)\n",
    "\n",
    "cross_val_score(lasso_model, X_train_scaled, y_train, cv = 5).mean()"
   ]
  },
  {
   "cell_type": "code",
   "execution_count": 385,
   "metadata": {},
   "outputs": [
    {
     "name": "stderr",
     "output_type": "stream",
     "text": [
      "/anaconda3/lib/python3.6/site-packages/sklearn/linear_model/coordinate_descent.py:1109: DataConversionWarning: A column-vector y was passed when a 1d array was expected. Please change the shape of y to (n_samples, ), for example using ravel().\n",
      "  y = column_or_1d(y, warn=True)\n"
     ]
    },
    {
     "name": "stdout",
     "output_type": "stream",
     "text": [
      "0.1\n",
      "0.1\n"
     ]
    },
    {
     "data": {
      "text/plain": [
       "0.9202071601132014"
      ]
     },
     "execution_count": 385,
     "metadata": {},
     "output_type": "execute_result"
    }
   ],
   "source": [
    "# ElasticNet regression\n",
    "\n",
    "enet_alphas = np.linspace(0.1, 1.0, 100)\n",
    "enet_ratio = np.linspace(0.1, 1.0, 100)\n",
    "\n",
    "enet = ElasticNetCV(alphas = enet_alphas, l1_ratio = enet_ratio, cv = 5)\n",
    "enet.fit(X_train_scaled, y_train)\n",
    "\n",
    "print(enet.alpha_)\n",
    "print(enet.l1_ratio_)\n",
    "\n",
    "enet_model = ElasticNet(alpha = enet.alpha_, l1_ratio = enet.l1_ratio_)\n",
    "enet_model.fit(X_train_scaled, y_train)\n",
    "\n",
    "cross_val_score(enet_model, X_train_scaled, y_train, cv = 5).mean()"
   ]
  },
  {
   "cell_type": "code",
   "execution_count": 386,
   "metadata": {},
   "outputs": [
    {
     "name": "stdout",
     "output_type": "stream",
     "text": [
      "Linear: 0.9231327276976268\n",
      "Ridge: 0.9237811573769836\n",
      "Lasso: 0.923306601201696\n",
      "ElasticNet: 0.9202071601132014\n"
     ]
    }
   ],
   "source": [
    "print(f\"Linear: {cross_val_score(mlr_model, X_train_scaled, y_train, cv = 5).mean()}\")\n",
    "\n",
    "print(f\"Ridge: {cross_val_score(ridge_model, X_train_scaled, y_train, cv = 5).mean()}\")\n",
    "\n",
    "print(f\"Lasso: {cross_val_score(lasso_model, X_train_scaled, y_train, cv = 5).mean()}\")\n",
    "\n",
    "print(f\"ElasticNet: {cross_val_score(enet_model, X_train_scaled, y_train, cv = 5).mean()}\")"
   ]
  },
  {
   "cell_type": "code",
   "execution_count": 387,
   "metadata": {},
   "outputs": [
    {
     "name": "stdout",
     "output_type": "stream",
     "text": [
      "Linear: -32033718.18020288\n",
      "Ridge: 0.8987657575627457\n",
      "Lasso: 0.8936904090194673\n",
      "ElasticNet: 0.896958516064325\n"
     ]
    }
   ],
   "source": [
    "print(f\"Linear: {cross_val_score(mlr_model, X_test_scaled, y_test, cv = 5).mean()}\")\n",
    "\n",
    "print(f\"Ridge: {cross_val_score(ridge_model, X_test_scaled, y_test, cv = 5).mean()}\")\n",
    "\n",
    "print(f\"Lasso: {cross_val_score(lasso_model, X_test_scaled, y_test, cv = 5).mean()}\")\n",
    "\n",
    "print(f\"ElasticNet: {cross_val_score(enet_model, X_test_scaled, y_test, cv = 5).mean()}\")"
   ]
  },
  {
   "cell_type": "code",
   "execution_count": 388,
   "metadata": {},
   "outputs": [
    {
     "name": "stdout",
     "output_type": "stream",
     "text": [
      "Linear: 0.9025493643027955\n",
      "Ridge: 0.9042153748758139\n",
      "Lasso: 0.903495376456151\n",
      "ElasticNet: 0.9063361329665008\n"
     ]
    }
   ],
   "source": [
    "print(f\"Linear: {mlr_model.score(X_test_scaled, y_test)}\")\n",
    "\n",
    "print(f\"Ridge: {ridge_model.score(X_test_scaled, y_test)}\")\n",
    "\n",
    "print(f\"Lasso: {lasso_model.score(X_test_scaled, y_test)}\")\n",
    "\n",
    "print(f\"ElasticNet: {enet_model.score(X_test_scaled, y_test)}\")"
   ]
  },
  {
   "cell_type": "code",
   "execution_count": 389,
   "metadata": {},
   "outputs": [
    {
     "data": {
      "image/png": "[encoded data removed]",
      "text/plain": [
       "<Figure size 576x576 with 1 Axes>"
      ]
     },
     "metadata": {
      "needs_background": "light"
     },
     "output_type": "display_data"
    }
   ],
   "source": [
    "predictions = enet_model.predict(X_train_scaled)\n",
    "\n",
    "plt.figure(figsize = (8,8))\n",
    "plt.scatter(predictions, \n",
    "            y_train,\n",
    "            s = 2,\n",
    "            alpha = 0.3\n",
    "           )\n",
    "\n",
    "plt.plot([np.min(predictions), np.max(predictions)],\n",
    "         [np.min(predictions), np.max(predictions)],\n",
    "         zorder = 10,\n",
    "         c = \"r\"\n",
    "        );"
   ]
  },
  {
   "cell_type": "code",
   "execution_count": null,
   "metadata": {},
   "outputs": [],
   "source": []
  }
 ],
 "metadata": {
  "kernelspec": {
   "display_name": "Python 3",
   "language": "python",
   "name": "python3"
  },
  "language_info": {
   "codemirror_mode": {
    "name": "ipython",
    "version": 3
   },
   "file_extension": ".py",
   "mimetype": "text/x-python",
   "name": "python",
   "nbconvert_exporter": "python",
   "pygments_lexer": "ipython3",
   "version": "3.6.8"
  }
 },
 "nbformat": 4,
 "nbformat_minor": 2
}
