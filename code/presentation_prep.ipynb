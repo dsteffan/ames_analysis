{
 "cells": [
  {
   "cell_type": "markdown",
   "metadata": {},
   "source": [
    "<a id = \"top\"></a>\n",
    "# Presentation Prep"
   ]
  },
  {
   "cell_type": "markdown",
   "metadata": {},
   "source": [
    "<a id=\"home\"></a>\n",
    "\n",
    "This notebook is primarily concerned with preparing models, drawing plots, compiling research, etc. in the interest of presenting my findings to a non-technical audience. The objective of this notebook is to prepare models with a focus on interpretability rather than chasing the highest R2 score or MSE, such as those submitted to Kaggle. \n",
    "\n",
    "#### This Notebook\n",
    "- [Plotting Lasso Coefficients](#lasso)\n",
    "- [Finding the Largest Coefficients](#coefs)\n",
    "- [Linear Regression Modeling](#linear)\n",
    "\n",
    "#### Other Notebooks\n",
    "- [Cleaning and EDA](cleaning_and_EDA.ipynb)\n",
    "- [Modeling](modeling.ipynb)\n",
    "- [Additional Modeling](adtl_modeling.ipynb)\n",
    "- [Predictions Demonstration](predictions_demonstration.ipynb)"
   ]
  },
  {
   "cell_type": "markdown",
   "metadata": {},
   "source": [
    "#### Importing"
   ]
  },
  {
   "cell_type": "code",
   "execution_count": 880,
   "metadata": {},
   "outputs": [],
   "source": [
    "import numpy as np\n",
    "import pandas as pd\n",
    "import matplotlib.pyplot as plt\n",
    "import seaborn as sns\n",
    "\n",
    "from sklearn.linear_model import LinearRegression, Ridge, Lasso, ElasticNet, RidgeCV, LassoCV, ElasticNetCV\n",
    "from sklearn.model_selection import train_test_split, KFold, cross_val_score\n",
    "from sklearn.metrics import r2_score\n",
    "from sklearn.preprocessing import PowerTransformer, StandardScaler\n",
    "\n",
    "%matplotlib inline"
   ]
  },
  {
   "cell_type": "code",
   "execution_count": 881,
   "metadata": {},
   "outputs": [],
   "source": [
    "ames = pd.read_csv(\"../datasets/ames.csv\")"
   ]
  },
  {
   "cell_type": "code",
   "execution_count": 882,
   "metadata": {},
   "outputs": [
    {
     "data": {
      "text/html": [
       "<div>\n",
       "<style scoped>\n",
       "    .dataframe tbody tr th:only-of-type {\n",
       "        vertical-align: middle;\n",
       "    }\n",
       "\n",
       "    .dataframe tbody tr th {\n",
       "        vertical-align: top;\n",
       "    }\n",
       "\n",
       "    .dataframe thead th {\n",
       "        text-align: right;\n",
       "    }\n",
       "</style>\n",
       "<table border=\"1\" class=\"dataframe\">\n",
       "  <thead>\n",
       "    <tr style=\"text-align: right;\">\n",
       "      <th></th>\n",
       "      <th>id</th>\n",
       "      <th>pid</th>\n",
       "      <th>ms_subclass</th>\n",
       "      <th>ms_zoning</th>\n",
       "      <th>lot_frontage</th>\n",
       "      <th>lot_area</th>\n",
       "      <th>street</th>\n",
       "      <th>alley</th>\n",
       "      <th>lot_shape</th>\n",
       "      <th>land_contour</th>\n",
       "      <th>...</th>\n",
       "      <th>screen_porch</th>\n",
       "      <th>pool_area</th>\n",
       "      <th>pool_qc</th>\n",
       "      <th>fence</th>\n",
       "      <th>misc_feature</th>\n",
       "      <th>misc_val</th>\n",
       "      <th>mo_sold</th>\n",
       "      <th>yr_sold</th>\n",
       "      <th>sale_type</th>\n",
       "      <th>saleprice</th>\n",
       "    </tr>\n",
       "  </thead>\n",
       "  <tbody>\n",
       "    <tr>\n",
       "      <th>0</th>\n",
       "      <td>109</td>\n",
       "      <td>533352170</td>\n",
       "      <td>60</td>\n",
       "      <td>RL</td>\n",
       "      <td>68.0</td>\n",
       "      <td>13517</td>\n",
       "      <td>Pave</td>\n",
       "      <td>NaN</td>\n",
       "      <td>IR1</td>\n",
       "      <td>Lvl</td>\n",
       "      <td>...</td>\n",
       "      <td>0</td>\n",
       "      <td>0</td>\n",
       "      <td>NaN</td>\n",
       "      <td>NaN</td>\n",
       "      <td>NaN</td>\n",
       "      <td>0</td>\n",
       "      <td>3</td>\n",
       "      <td>2010</td>\n",
       "      <td>WD</td>\n",
       "      <td>130500</td>\n",
       "    </tr>\n",
       "    <tr>\n",
       "      <th>1</th>\n",
       "      <td>544</td>\n",
       "      <td>531379050</td>\n",
       "      <td>60</td>\n",
       "      <td>RL</td>\n",
       "      <td>43.0</td>\n",
       "      <td>11492</td>\n",
       "      <td>Pave</td>\n",
       "      <td>NaN</td>\n",
       "      <td>IR1</td>\n",
       "      <td>Lvl</td>\n",
       "      <td>...</td>\n",
       "      <td>0</td>\n",
       "      <td>0</td>\n",
       "      <td>NaN</td>\n",
       "      <td>NaN</td>\n",
       "      <td>NaN</td>\n",
       "      <td>0</td>\n",
       "      <td>4</td>\n",
       "      <td>2009</td>\n",
       "      <td>WD</td>\n",
       "      <td>220000</td>\n",
       "    </tr>\n",
       "    <tr>\n",
       "      <th>2</th>\n",
       "      <td>153</td>\n",
       "      <td>535304180</td>\n",
       "      <td>20</td>\n",
       "      <td>RL</td>\n",
       "      <td>68.0</td>\n",
       "      <td>7922</td>\n",
       "      <td>Pave</td>\n",
       "      <td>NaN</td>\n",
       "      <td>Reg</td>\n",
       "      <td>Lvl</td>\n",
       "      <td>...</td>\n",
       "      <td>0</td>\n",
       "      <td>0</td>\n",
       "      <td>NaN</td>\n",
       "      <td>NaN</td>\n",
       "      <td>NaN</td>\n",
       "      <td>0</td>\n",
       "      <td>1</td>\n",
       "      <td>2010</td>\n",
       "      <td>WD</td>\n",
       "      <td>109000</td>\n",
       "    </tr>\n",
       "  </tbody>\n",
       "</table>\n",
       "<p>3 rows × 81 columns</p>\n",
       "</div>"
      ],
      "text/plain": [
       "    id        pid  ms_subclass ms_zoning  lot_frontage  lot_area street alley  \\\n",
       "0  109  533352170           60        RL          68.0     13517   Pave   NaN   \n",
       "1  544  531379050           60        RL          43.0     11492   Pave   NaN   \n",
       "2  153  535304180           20        RL          68.0      7922   Pave   NaN   \n",
       "\n",
       "  lot_shape land_contour  ... screen_porch pool_area pool_qc fence  \\\n",
       "0       IR1          Lvl  ...            0         0     NaN   NaN   \n",
       "1       IR1          Lvl  ...            0         0     NaN   NaN   \n",
       "2       Reg          Lvl  ...            0         0     NaN   NaN   \n",
       "\n",
       "  misc_feature misc_val mo_sold yr_sold  sale_type  saleprice  \n",
       "0          NaN        0       3    2010        WD      130500  \n",
       "1          NaN        0       4    2009        WD      220000  \n",
       "2          NaN        0       1    2010        WD      109000  \n",
       "\n",
       "[3 rows x 81 columns]"
      ]
     },
     "execution_count": 882,
     "metadata": {},
     "output_type": "execute_result"
    }
   ],
   "source": [
    "ames.head(3)"
   ]
  },
  {
   "cell_type": "markdown",
   "metadata": {},
   "source": [
    "### Preprocessing\n",
    "---"
   ]
  },
  {
   "cell_type": "code",
   "execution_count": 883,
   "metadata": {},
   "outputs": [],
   "source": [
    "ames_corr = ames.corr()[\"saleprice\"]"
   ]
  },
  {
   "cell_type": "code",
   "execution_count": 884,
   "metadata": {},
   "outputs": [
    {
     "data": {
      "text/plain": [
       "0"
      ]
     },
     "execution_count": 884,
     "metadata": {},
     "output_type": "execute_result"
    }
   ],
   "source": [
    "features = ames_corr[ames_corr != 1.0].index\n",
    "\n",
    "# These \"features\" are not actually descriptors of the houses\n",
    "features = features.drop([\"pid\", \"id\"])\n",
    "\n",
    "ames[features].isna().sum().sum()"
   ]
  },
  {
   "cell_type": "code",
   "execution_count": 885,
   "metadata": {},
   "outputs": [],
   "source": [
    "X = ames[features]\n",
    "y = ames[\"saleprice\"]"
   ]
  },
  {
   "cell_type": "code",
   "execution_count": 886,
   "metadata": {},
   "outputs": [],
   "source": [
    "X_train, X_test, y_train, y_test = train_test_split(X, \n",
    "                                                    y, \n",
    "                                                    random_state = 35, \n",
    "                                                    test_size = 0.25)"
   ]
  },
  {
   "cell_type": "code",
   "execution_count": 887,
   "metadata": {},
   "outputs": [
    {
     "name": "stderr",
     "output_type": "stream",
     "text": [
      "/anaconda3/lib/python3.6/site-packages/numpy/core/_methods.py:121: RuntimeWarning: overflow encountered in multiply\n",
      "  x = um.multiply(x, x, out=x)\n"
     ]
    }
   ],
   "source": [
    "pt_X = PowerTransformer()\n",
    "pt_X.fit(X_train)\n",
    "X_train = pt_X.transform(X_train)\n",
    "X_test = pt_X.transform(X_test)\n",
    "\n",
    "pt_Y = PowerTransformer()\n",
    "pt_Y.fit(y_train.to_frame())\n",
    "y_train = pt_Y.transform(y_train.to_frame())\n",
    "y_test = pt_Y.transform(y_test.to_frame())"
   ]
  },
  {
   "cell_type": "code",
   "execution_count": 888,
   "metadata": {},
   "outputs": [],
   "source": [
    "# Scaling the data\n",
    "\n",
    "ss = StandardScaler()\n",
    "\n",
    "ss.fit(X_train)\n",
    "\n",
    "X_train_scaled = ss.transform(X_train)\n",
    "X_test_scaled = ss.transform(X_test)"
   ]
  },
  {
   "cell_type": "markdown",
   "metadata": {},
   "source": [
    "<a id = \"lasso\"></a>\n",
    "### Plotting Lasso Coefficients\n",
    "---\n",
    "\n",
    "These plots are designed to demonstrate to a non-technical audience how lasso regression affects the coefficients of a regression model. The models and coefficients themselves are not explicitly used in the presentation.\n",
    "\n",
    "- [Back to top](#top)"
   ]
  },
  {
   "cell_type": "code",
   "execution_count": 889,
   "metadata": {},
   "outputs": [
    {
     "data": {
      "image/png": "[encoded data removed]",
      "text/plain": [
       "<Figure size 576x576 with 1 Axes>"
      ]
     },
     "metadata": {
      "needs_background": "light"
     },
     "output_type": "display_data"
    }
   ],
   "source": [
    "# This plot will show the magnitude for \n",
    "\n",
    "# This code is adapted from this Medium article:\n",
    "# https://towardsdatascience.com/ridge-and-lasso-regression-a-complete-guide-with-python-scikit-learn-e20e34bcbf0b\n",
    "\n",
    "plt.figure(figsize = (8,8))\n",
    "\n",
    "lr = LinearRegression()\n",
    "lr.fit(X_train_scaled, y_train)\n",
    "plt.plot(lr.coef_.ravel(),\n",
    "         linestyle = \"none\",\n",
    "         marker = \"*\",\n",
    "         markersize = 8,\n",
    "         label = \"Linear Reg\"\n",
    "        )\n",
    "\n",
    "# Lasso Model of alpha = 0; same as Linear Regression\n",
    "\n",
    "# lasso_model = Lasso(alpha = 0)\n",
    "# lasso_model.fit(X_train_scaled, y_train)\n",
    "# plt.plot(lasso_model.coef_,\n",
    "#      linestyle = \"none\",\n",
    "#      marker = \"*\",\n",
    "#      markersize = 8,\n",
    "#      label = \"a = 0\"\n",
    "#     )\n",
    "\n",
    "lasso_model = Lasso(alpha = 0.1)\n",
    "lasso_model.fit(X_train_scaled, y_train)\n",
    "plt.plot(lasso_model.coef_,\n",
    "     linestyle = \"none\",\n",
    "     marker = \".\",\n",
    "     markersize = 8,\n",
    "     color = \"red\",\n",
    "     label = \"a = 0.1\",\n",
    "     zorder = 10\n",
    "    )    \n",
    "\n",
    "lasso_model = Lasso(alpha = 1)\n",
    "lasso_model.fit(X_train_scaled, y_train)\n",
    "plt.plot(lasso_model.coef_,\n",
    "     linestyle = \"none\",\n",
    "     marker = \"d\",\n",
    "     markersize = 8,\n",
    "     color = \"green\",\n",
    "     label = \"a = 1\"\n",
    "    )\n",
    "\n",
    "plt.title(\"Effects on Coefficients as Alpha Increases (Lasso Regression)\")\n",
    "plt.xlabel(\"Coefficient Index\")\n",
    "plt.ylabel(\"Coefficient Magnitude\")\n",
    "\n",
    "plt.legend(loc = 1)\n",
    "\n",
    "plt.savefig(\"../images/lasso_coefficients.png\");"
   ]
  },
  {
   "cell_type": "code",
   "execution_count": 890,
   "metadata": {},
   "outputs": [
    {
     "data": {
      "image/png": "[encoded data removed]",
      "text/plain": [
       "<Figure size 576x576 with 1 Axes>"
      ]
     },
     "metadata": {
      "needs_background": "light"
     },
     "output_type": "display_data"
    }
   ],
   "source": [
    "# Same plot but with sorted coefficients. \n",
    "# NOTE THAT THE COEFFICIENTS MAY NOT DIRECTLY\n",
    "# CORRESPOND TO EACH OTHER AS THEY DO IN THE \n",
    "# FIRST PLOT. This figure should not be used \n",
    "# for direct interpretation, and instead\n",
    "# should be used for visualization purposes \n",
    "# only.\n",
    "\n",
    "plt.figure(figsize = (8,8))\n",
    "\n",
    "lr = LinearRegression()\n",
    "lr.fit(X_train_scaled, y_train)\n",
    "plt.plot(np.sort(lr.coef_.ravel())[::-1],\n",
    "         linestyle = \"none\",\n",
    "         marker = \"*\",\n",
    "         markersize = 8,\n",
    "         label = \"Linear Reg\"\n",
    "        )\n",
    "\n",
    "# Lasso Model of alpha = 0; same as Linear Regression\n",
    "\n",
    "# lasso_model = Lasso(alpha = 0)\n",
    "# lasso_model.fit(X_train_scaled, y_train)\n",
    "# plt.plot(lasso_model.coef_,\n",
    "#      linestyle = \"none\",\n",
    "#      marker = \"*\",\n",
    "#      markersize = 8,\n",
    "#      label = \"a = 0\"\n",
    "#     )\n",
    "\n",
    "lasso_model = Lasso(alpha = 0.1)\n",
    "lasso_model.fit(X_train_scaled, y_train)\n",
    "plt.plot(np.sort(lasso_model.coef_)[::-1],\n",
    "     linestyle = \"none\",\n",
    "     marker = \".\",\n",
    "     markersize = 8,\n",
    "     color = \"red\",\n",
    "     label = \"a = 0.1\",\n",
    "     zorder = 3\n",
    "    )    \n",
    "\n",
    "lasso_model = Lasso(alpha = 1)\n",
    "lasso_model.fit(X_train_scaled, y_train)\n",
    "plt.plot(np.sort(lasso_model.coef_)[::-1],\n",
    "     linestyle = \"none\",\n",
    "     marker = \"d\",\n",
    "     markersize = 8,\n",
    "     color = \"green\",\n",
    "     label = \"a = 1\"\n",
    "    )\n",
    "\n",
    "plt.title(\"Effects on Coefficients as Alpha Increases (Lasso Regression)\")\n",
    "plt.xlabel(\"Coefficient Index\")\n",
    "plt.ylabel(\"Coefficient Magnitude\")\n",
    "\n",
    "plt.legend(loc = 1)\n",
    "\n",
    "plt.savefig(\"../images/lasso_coefficients_sorted.png\");"
   ]
  },
  {
   "cell_type": "markdown",
   "metadata": {},
   "source": [
    "<a id = \"coefs\"></a>\n",
    "### Finding the Largest Coefficients\n",
    "---\n",
    "\n",
    "This section is for finding the largest coefficients, as narrowed down by lasso regression. The top coefficients are then taken into the next model, linear regression.\n",
    "\n",
    "- [Back to top](#top)"
   ]
  },
  {
   "cell_type": "code",
   "execution_count": 891,
   "metadata": {},
   "outputs": [],
   "source": [
    "# The enhanced dataset is read in here, such that we can model with \n",
    "# every feature available to us.\n",
    "\n",
    "ames = pd.read_csv(\"../datasets/ames_plus.csv\")"
   ]
  },
  {
   "cell_type": "code",
   "execution_count": 892,
   "metadata": {},
   "outputs": [
    {
     "data": {
      "text/plain": [
       "0"
      ]
     },
     "execution_count": 892,
     "metadata": {},
     "output_type": "execute_result"
    }
   ],
   "source": [
    "features = ames.columns.drop(\"saleprice\")\n",
    "\n",
    "# These features are dropped in the interest of interpretability.\n",
    "# Assuming we are presenting our findings to an average homebuyer,\n",
    "# they won't be able to accurately judge the overall quality of a\n",
    "# house in the same way that a real estate agent might. \n",
    "features = features.drop([\"overall_qual\", \"overall_cond\"])\n",
    "\n",
    "# testing\n",
    "features = features.drop([\"functional\", \"exter_qual\"])\n",
    "\n",
    "# Another goal is generalization. A model that uses neighborhoods\n",
    "# specific to Ames, Iowa cannot be extrapolated to other cities.\n",
    "features = [col for col in features if \"neighborhood\" not in col]\n",
    "\n",
    "ames[features].isna().sum().sum()"
   ]
  },
  {
   "cell_type": "code",
   "execution_count": 893,
   "metadata": {},
   "outputs": [
    {
     "data": {
      "text/plain": [
       "209"
      ]
     },
     "execution_count": 893,
     "metadata": {},
     "output_type": "execute_result"
    }
   ],
   "source": [
    "len(features)"
   ]
  },
  {
   "cell_type": "code",
   "execution_count": 894,
   "metadata": {},
   "outputs": [],
   "source": [
    "X = ames[features]\n",
    "y = ames[\"saleprice\"]"
   ]
  },
  {
   "cell_type": "code",
   "execution_count": 895,
   "metadata": {},
   "outputs": [],
   "source": [
    "X_train, X_test, y_train, y_test = train_test_split(X, \n",
    "                                                    y, \n",
    "                                                    random_state = 35, \n",
    "                                                    test_size = 0.25)"
   ]
  },
  {
   "cell_type": "code",
   "execution_count": 896,
   "metadata": {},
   "outputs": [
    {
     "name": "stderr",
     "output_type": "stream",
     "text": [
      "/anaconda3/lib/python3.6/site-packages/numpy/core/_methods.py:121: RuntimeWarning: overflow encountered in multiply\n",
      "  x = um.multiply(x, x, out=x)\n",
      "/anaconda3/lib/python3.6/site-packages/numpy/core/_methods.py:122: RuntimeWarning: overflow encountered in reduce\n",
      "  ret = umr_sum(x, axis, dtype, out, keepdims)\n",
      "/anaconda3/lib/python3.6/site-packages/sklearn/preprocessing/data.py:2798: RuntimeWarning: divide by zero encountered in log\n",
      "  loglike = -n_samples / 2 * np.log(x_trans.var())\n"
     ]
    }
   ],
   "source": [
    "pt_X = PowerTransformer()\n",
    "pt_X.fit(X_train)\n",
    "X_train = pt_X.transform(X_train)\n",
    "X_test = pt_X.transform(X_test)\n",
    "\n",
    "pt_Y = PowerTransformer()\n",
    "pt_Y.fit(y_train.to_frame())\n",
    "y_train = pt_Y.transform(y_train.to_frame())\n",
    "y_test = pt_Y.transform(y_test.to_frame())"
   ]
  },
  {
   "cell_type": "code",
   "execution_count": 897,
   "metadata": {},
   "outputs": [],
   "source": [
    "# Scaling the data\n",
    "\n",
    "ss = StandardScaler()\n",
    "\n",
    "ss.fit(X_train)\n",
    "\n",
    "X_train_scaled = ss.transform(X_train)\n",
    "X_test_scaled = ss.transform(X_test)"
   ]
  },
  {
   "cell_type": "code",
   "execution_count": 898,
   "metadata": {},
   "outputs": [
    {
     "data": {
      "text/plain": [
       "0.7682693694557019"
      ]
     },
     "execution_count": 898,
     "metadata": {},
     "output_type": "execute_result"
    }
   ],
   "source": [
    "# Lasso regression\n",
    "\n",
    "# lasso = LassoCV(cv = 5)\n",
    "# lasso = lasso.fit(X_train_scaled, y_train)\n",
    "\n",
    "# manually choosing an alpha value\n",
    "lasso_model = Lasso(alpha = 0.2)\n",
    "lasso_model.fit(X_train_scaled, y_train)\n",
    "\n",
    "cross_val_score(lasso_model, X_train_scaled, y_train, cv = 5).mean()"
   ]
  },
  {
   "cell_type": "code",
   "execution_count": 899,
   "metadata": {},
   "outputs": [],
   "source": [
    "# lasso.alpha_"
   ]
  },
  {
   "cell_type": "code",
   "execution_count": 900,
   "metadata": {},
   "outputs": [],
   "source": [
    "lasso_coefs = lasso_model.coef_"
   ]
  },
  {
   "cell_type": "markdown",
   "metadata": {},
   "source": [
    "#### Largest Lasso Coefficients\n",
    "\n",
    "---\n",
    "\n",
    "Pulling the coefficients from our most recent model and putting them into a data frame so we can easily see which ones have the greatest impact by sorting by absolute value. These coefficients are harder to interpret and thus may not be used directly in the presentation."
   ]
  },
  {
   "cell_type": "code",
   "execution_count": 901,
   "metadata": {},
   "outputs": [],
   "source": [
    "# lasso_coefs"
   ]
  },
  {
   "cell_type": "code",
   "execution_count": 902,
   "metadata": {},
   "outputs": [],
   "source": [
    "coefs = pd.DataFrame()\n",
    "\n",
    "coefs[\"feature\"] = features\n",
    "\n",
    "coefs[\"lasso_coefs\"] = lasso_coefs\n",
    "\n",
    "coefs[\"lasso_coefs_abs\"] = abs(lasso_coefs)"
   ]
  },
  {
   "cell_type": "code",
   "execution_count": 903,
   "metadata": {
    "scrolled": true
   },
   "outputs": [
    {
     "data": {
      "text/html": [
       "<div>\n",
       "<style scoped>\n",
       "    .dataframe tbody tr th:only-of-type {\n",
       "        vertical-align: middle;\n",
       "    }\n",
       "\n",
       "    .dataframe tbody tr th {\n",
       "        vertical-align: top;\n",
       "    }\n",
       "\n",
       "    .dataframe thead th {\n",
       "        text-align: right;\n",
       "    }\n",
       "</style>\n",
       "<table border=\"1\" class=\"dataframe\">\n",
       "  <thead>\n",
       "    <tr style=\"text-align: right;\">\n",
       "      <th></th>\n",
       "      <th>feature</th>\n",
       "      <th>lasso_coefs</th>\n",
       "      <th>lasso_coefs_abs</th>\n",
       "    </tr>\n",
       "  </thead>\n",
       "  <tbody>\n",
       "    <tr>\n",
       "      <th>47</th>\n",
       "      <td>total_sq_ft</td>\n",
       "      <td>0.412194</td>\n",
       "      <td>0.412194</td>\n",
       "    </tr>\n",
       "    <tr>\n",
       "      <th>28</th>\n",
       "      <td>kitchen_qual</td>\n",
       "      <td>0.096531</td>\n",
       "      <td>0.096531</td>\n",
       "    </tr>\n",
       "    <tr>\n",
       "      <th>48</th>\n",
       "      <td>age</td>\n",
       "      <td>-0.091603</td>\n",
       "      <td>0.091603</td>\n",
       "    </tr>\n",
       "    <tr>\n",
       "      <th>7</th>\n",
       "      <td>bsmt_qual</td>\n",
       "      <td>0.046633</td>\n",
       "      <td>0.046633</td>\n",
       "    </tr>\n",
       "    <tr>\n",
       "      <th>33</th>\n",
       "      <td>garage_cars</td>\n",
       "      <td>0.045641</td>\n",
       "      <td>0.045641</td>\n",
       "    </tr>\n",
       "  </tbody>\n",
       "</table>\n",
       "</div>"
      ],
      "text/plain": [
       "         feature  lasso_coefs  lasso_coefs_abs\n",
       "47   total_sq_ft     0.412194         0.412194\n",
       "28  kitchen_qual     0.096531         0.096531\n",
       "48           age    -0.091603         0.091603\n",
       "7      bsmt_qual     0.046633         0.046633\n",
       "33   garage_cars     0.045641         0.045641"
      ]
     },
     "execution_count": 903,
     "metadata": {},
     "output_type": "execute_result"
    }
   ],
   "source": [
    "coefs.sort_values(by = \"lasso_coefs_abs\", ascending = False).head()"
   ]
  },
  {
   "cell_type": "code",
   "execution_count": 904,
   "metadata": {},
   "outputs": [
    {
     "data": {
      "text/plain": [
       "95.21531100478468"
      ]
     },
     "execution_count": 904,
     "metadata": {},
     "output_type": "execute_result"
    }
   ],
   "source": [
    "# Percentage of the data that has been negated by Lasso Regression!\n",
    "\n",
    "100 * ((coefs[\"lasso_coefs\"] == 0).sum() / len(coefs[\"lasso_coefs\"]))"
   ]
  },
  {
   "cell_type": "code",
   "execution_count": 905,
   "metadata": {},
   "outputs": [],
   "source": [
    "# Select the top five features by absolute value\n",
    "\n",
    "features = coefs.sort_values(by = \"lasso_coefs_abs\", ascending = False).head(5)[\"feature\"]"
   ]
  },
  {
   "cell_type": "code",
   "execution_count": 906,
   "metadata": {
    "scrolled": false
   },
   "outputs": [
    {
     "data": {
      "text/plain": [
       "47     total_sq_ft\n",
       "28    kitchen_qual\n",
       "48             age\n",
       "7        bsmt_qual\n",
       "33     garage_cars\n",
       "Name: feature, dtype: object"
      ]
     },
     "execution_count": 906,
     "metadata": {},
     "output_type": "execute_result"
    }
   ],
   "source": [
    "features"
   ]
  },
  {
   "cell_type": "markdown",
   "metadata": {},
   "source": [
    "<a id = \"linear\"></a>\n",
    "### Linear Regression Modeling\n",
    "---\n",
    "\n",
    "This model is designed with interpretability in mind; as such these features are not scaled or transformed in any way. \n",
    "\n",
    "- [Back to top](#top)"
   ]
  },
  {
   "cell_type": "code",
   "execution_count": 907,
   "metadata": {},
   "outputs": [],
   "source": [
    "X = ames[features]\n",
    "y = ames[\"saleprice\"]"
   ]
  },
  {
   "cell_type": "code",
   "execution_count": 908,
   "metadata": {},
   "outputs": [
    {
     "data": {
      "text/plain": [
       "0.8106088549905086"
      ]
     },
     "execution_count": 908,
     "metadata": {},
     "output_type": "execute_result"
    }
   ],
   "source": [
    "mlr_model = LinearRegression()\n",
    "mlr_model = mlr_model.fit(X, y)\n",
    "\n",
    "mlr_model.score(X, y)"
   ]
  },
  {
   "cell_type": "code",
   "execution_count": 909,
   "metadata": {},
   "outputs": [
    {
     "data": {
      "text/plain": [
       "0.8095004582225671"
      ]
     },
     "execution_count": 909,
     "metadata": {},
     "output_type": "execute_result"
    }
   ],
   "source": [
    "cross_val_score(mlr_model, X, y, cv = 5).mean()"
   ]
  },
  {
   "cell_type": "code",
   "execution_count": 910,
   "metadata": {},
   "outputs": [],
   "source": [
    "coefs = pd.DataFrame()\n",
    "\n",
    "coefs[\"feature\"] = features\n",
    "\n",
    "coefs[\"mlr_coefs\"] = mlr_model.coef_"
   ]
  },
  {
   "cell_type": "code",
   "execution_count": 911,
   "metadata": {},
   "outputs": [
    {
     "data": {
      "text/html": [
       "<div>\n",
       "<style scoped>\n",
       "    .dataframe tbody tr th:only-of-type {\n",
       "        vertical-align: middle;\n",
       "    }\n",
       "\n",
       "    .dataframe tbody tr th {\n",
       "        vertical-align: top;\n",
       "    }\n",
       "\n",
       "    .dataframe thead th {\n",
       "        text-align: right;\n",
       "    }\n",
       "</style>\n",
       "<table border=\"1\" class=\"dataframe\">\n",
       "  <thead>\n",
       "    <tr style=\"text-align: right;\">\n",
       "      <th></th>\n",
       "      <th>feature</th>\n",
       "      <th>mlr_coefs</th>\n",
       "    </tr>\n",
       "  </thead>\n",
       "  <tbody>\n",
       "    <tr>\n",
       "      <th>47</th>\n",
       "      <td>total_sq_ft</td>\n",
       "      <td>56.675486</td>\n",
       "    </tr>\n",
       "    <tr>\n",
       "      <th>28</th>\n",
       "      <td>kitchen_qual</td>\n",
       "      <td>30395.625164</td>\n",
       "    </tr>\n",
       "    <tr>\n",
       "      <th>48</th>\n",
       "      <td>age</td>\n",
       "      <td>-282.355827</td>\n",
       "    </tr>\n",
       "    <tr>\n",
       "      <th>7</th>\n",
       "      <td>bsmt_qual</td>\n",
       "      <td>4995.360010</td>\n",
       "    </tr>\n",
       "    <tr>\n",
       "      <th>33</th>\n",
       "      <td>garage_cars</td>\n",
       "      <td>13276.081937</td>\n",
       "    </tr>\n",
       "  </tbody>\n",
       "</table>\n",
       "</div>"
      ],
      "text/plain": [
       "         feature     mlr_coefs\n",
       "47   total_sq_ft     56.675486\n",
       "28  kitchen_qual  30395.625164\n",
       "48           age   -282.355827\n",
       "7      bsmt_qual   4995.360010\n",
       "33   garage_cars  13276.081937"
      ]
     },
     "execution_count": 911,
     "metadata": {},
     "output_type": "execute_result"
    }
   ],
   "source": [
    "coefs"
   ]
  },
  {
   "cell_type": "code",
   "execution_count": 912,
   "metadata": {},
   "outputs": [
    {
     "data": {
      "image/png": "[encoded data removed]",
      "text/plain": [
       "<Figure size 576x864 with 1 Axes>"
      ]
     },
     "metadata": {
      "needs_background": "light"
     },
     "output_type": "display_data"
    }
   ],
   "source": [
    "plt.figure(figsize = (8, 12))\n",
    "plt.bar(coefs[coefs[\"mlr_coefs\"] > 200.0][\"feature\"], \n",
    "        coefs[coefs[\"mlr_coefs\"] > 200.0][\"mlr_coefs\"],\n",
    "        color = \"steelblue\",\n",
    "        edgecolor = \"k\",\n",
    "        alpha = 0.8\n",
    "       )\n",
    "\n",
    "plt.title(\"Magnitude of Linear Regression Coefficients\")\n",
    "plt.xlabel(\"Feature\")\n",
    "plt.ylabel(\"Effect on Final Sale Price\")\n",
    "\n",
    "plt.savefig(\"../images/coefs_bar_1.png\");"
   ]
  },
  {
   "cell_type": "code",
   "execution_count": 913,
   "metadata": {},
   "outputs": [
    {
     "data": {
      "image/png": "[encoded data removed]",
      "text/plain": [
       "<Figure size 432x864 with 1 Axes>"
      ]
     },
     "metadata": {
      "needs_background": "light"
     },
     "output_type": "display_data"
    }
   ],
   "source": [
    "plt.figure(figsize = (6, 12))\n",
    "plt.bar(coefs[coefs[\"mlr_coefs\"] < 200.0][\"feature\"], \n",
    "        coefs[coefs[\"mlr_coefs\"] < 200.0][\"mlr_coefs\"],\n",
    "        color = \"steelblue\",\n",
    "        edgecolor = \"k\",\n",
    "        alpha = 0.8\n",
    "       )\n",
    "\n",
    "plt.title(\"Magnitude of Linear Regression Coefficients\")\n",
    "plt.xlabel(\"Feature\")\n",
    "plt.ylabel(\"Effect on Final Sale Price\")\n",
    "\n",
    "plt.savefig(\"../images/coefs_bar_2.png\");"
   ]
  },
  {
   "cell_type": "code",
   "execution_count": 914,
   "metadata": {},
   "outputs": [],
   "source": [
    "# This function is expanded upon in the Prediction Demonstrations notebook.\n",
    "\n",
    "def make_prediction(sq_ft, age, kit, bsmt, cars):\n",
    "    \n",
    "    df = pd.DataFrame({\n",
    "        \"total_sq_ft\": [sq_ft],\n",
    "        \"age\": [age],\n",
    "        \"kitchen_qual\": [kit],\n",
    "        \"bsmt_qual\": [bsmt],\n",
    "        \"garage_cars\": [cars]\n",
    "    })\n",
    "    print(\"Your dream home will cost only\", int(mlr_model.predict(df)), \"dollars!\")"
   ]
  },
  {
   "cell_type": "code",
   "execution_count": 915,
   "metadata": {},
   "outputs": [
    {
     "name": "stdout",
     "output_type": "stream",
     "text": [
      "Your dream home will cost only 206299 dollars!\n"
     ]
    }
   ],
   "source": [
    "# Finding the price of Jimmy's house!\n",
    "\n",
    "make_prediction(2000, 5, 3, 3, 2)"
   ]
  },
  {
   "cell_type": "code",
   "execution_count": 916,
   "metadata": {},
   "outputs": [],
   "source": [
    "intercept = mlr_model.intercept_"
   ]
  },
  {
   "cell_type": "code",
   "execution_count": 917,
   "metadata": {
    "scrolled": true
   },
   "outputs": [
    {
     "data": {
      "text/plain": [
       "array([   56.67548555, 30395.62516387,  -282.35582703,  4995.36001   ,\n",
       "       13276.08193661])"
      ]
     },
     "execution_count": 917,
     "metadata": {},
     "output_type": "execute_result"
    }
   ],
   "source": [
    "mlr_model.coef_"
   ]
  },
  {
   "cell_type": "code",
   "execution_count": 918,
   "metadata": {},
   "outputs": [
    {
     "data": {
      "text/plain": [
       "-2242.882792132613"
      ]
     },
     "execution_count": 918,
     "metadata": {},
     "output_type": "execute_result"
    }
   ],
   "source": [
    "# Finding out how old Jimathy's house will be!\n",
    "\n",
    "ph = ((56.67548555 * 5000) + (30395.62516387 * 5) + (4995.36001 * 5) + (13276.08193661 * 5) + intercept + 206299)\n",
    "ph / -282.35582703"
   ]
  },
  {
   "cell_type": "code",
   "execution_count": 921,
   "metadata": {},
   "outputs": [
    {
     "data": {
      "image/png": "[encoded data removed]",
      "text/plain": [
       "<Figure size 576x576 with 1 Axes>"
      ]
     },
     "metadata": {
      "needs_background": "light"
     },
     "output_type": "display_data"
    }
   ],
   "source": [
    "predictions = mlr_model.predict(X)\n",
    "\n",
    "plt.figure(figsize = (8,8))\n",
    "\n",
    "plt.scatter(predictions, \n",
    "            y,\n",
    "            s = 5,\n",
    "            alpha = 0.2,\n",
    "            color = \"steelblue\"\n",
    "           )\n",
    "\n",
    "plt.plot([np.min(predictions), np.max(predictions)],\n",
    "         [np.min(predictions), np.max(predictions)],\n",
    "         color = \"maroon\",\n",
    "         zorder = 10\n",
    "        )\n",
    "\n",
    "plt.title(\"Visual Representation of Linear Regression\")\n",
    "plt.xlabel(\"Predicted Price\")\n",
    "plt.ylabel(\"Actual Price\")\n",
    "\n",
    "plt.savefig(\"../images/lin_reg_viz.png\");"
   ]
  },
  {
   "cell_type": "markdown",
   "metadata": {},
   "source": [
    "---\n",
    "- [Back to top](#top)"
   ]
  }
 ],
 "metadata": {
  "kernelspec": {
   "display_name": "Python 3",
   "language": "python",
   "name": "python3"
  },
  "language_info": {
   "codemirror_mode": {
    "name": "ipython",
    "version": 3
   },
   "file_extension": ".py",
   "mimetype": "text/x-python",
   "name": "python",
   "nbconvert_exporter": "python",
   "pygments_lexer": "ipython3",
   "version": "3.6.8"
  }
 },
 "nbformat": 4,
 "nbformat_minor": 2
}
