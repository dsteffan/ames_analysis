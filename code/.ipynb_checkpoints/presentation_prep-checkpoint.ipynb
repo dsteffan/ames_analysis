{
 "cells": [
  {
   "cell_type": "markdown",
   "metadata": {},
   "source": [
    "<a id = \"top\"></a>\n",
    "# Presentation Prep"
   ]
  },
  {
   "cell_type": "markdown",
   "metadata": {},
   "source": [
    "<a id=\"home\"></a>\n",
    "\n",
    "This notebook is primarily concerned with preparing models, drawing plots, compiling research, etc. in the interest of presenting my findings. The objective of this notebook is to prepare models with a focus on interpretability rather than chasing the highest R2 score or MSE, such as those submitted to Kaggle. \n",
    "\n",
    "#### This Notebook\n",
    "- [First Model, Linear Regression](#linear)\n",
    "- [Second Model, Lasso Regression](#lasso)\n",
    "\n",
    "#### Other Notebooks\n",
    "- [Cleaning and EDA](cleaning_and_EDA.ipynb)\n",
    "- [Models](modeling.ipynb)"
   ]
  },
  {
   "cell_type": "markdown",
   "metadata": {},
   "source": [
    "#### Importing"
   ]
  },
  {
   "cell_type": "code",
   "execution_count": 2,
   "metadata": {},
   "outputs": [],
   "source": [
    "import numpy as np\n",
    "import pandas as pd\n",
    "import matplotlib.pyplot as plt\n",
    "import seaborn as sns\n",
    "\n",
    "from sklearn.linear_model import LinearRegression, Ridge, Lasso, ElasticNet, RidgeCV, LassoCV, ElasticNetCV\n",
    "from sklearn.model_selection import train_test_split, KFold, cross_val_score\n",
    "from sklearn.metrics import r2_score\n",
    "from sklearn.preprocessing import PowerTransformer, StandardScaler\n",
    "\n",
    "%matplotlib inline"
   ]
  },
  {
   "cell_type": "code",
   "execution_count": 3,
   "metadata": {},
   "outputs": [],
   "source": [
    "ames = pd.read_csv(\"../datasets/ames.csv\")\n",
    "\n",
    "coefs = pd.read_csv(\"../datasets/coefs.csv\")"
   ]
  },
  {
   "cell_type": "code",
   "execution_count": 4,
   "metadata": {},
   "outputs": [
    {
     "data": {
      "text/html": [
       "<div>\n",
       "<style scoped>\n",
       "    .dataframe tbody tr th:only-of-type {\n",
       "        vertical-align: middle;\n",
       "    }\n",
       "\n",
       "    .dataframe tbody tr th {\n",
       "        vertical-align: top;\n",
       "    }\n",
       "\n",
       "    .dataframe thead th {\n",
       "        text-align: right;\n",
       "    }\n",
       "</style>\n",
       "<table border=\"1\" class=\"dataframe\">\n",
       "  <thead>\n",
       "    <tr style=\"text-align: right;\">\n",
       "      <th></th>\n",
       "      <th>id</th>\n",
       "      <th>pid</th>\n",
       "      <th>ms_subclass</th>\n",
       "      <th>ms_zoning</th>\n",
       "      <th>lot_frontage</th>\n",
       "      <th>lot_area</th>\n",
       "      <th>street</th>\n",
       "      <th>alley</th>\n",
       "      <th>lot_shape</th>\n",
       "      <th>land_contour</th>\n",
       "      <th>...</th>\n",
       "      <th>screen_porch</th>\n",
       "      <th>pool_area</th>\n",
       "      <th>pool_qc</th>\n",
       "      <th>fence</th>\n",
       "      <th>misc_feature</th>\n",
       "      <th>misc_val</th>\n",
       "      <th>mo_sold</th>\n",
       "      <th>yr_sold</th>\n",
       "      <th>sale_type</th>\n",
       "      <th>saleprice</th>\n",
       "    </tr>\n",
       "  </thead>\n",
       "  <tbody>\n",
       "    <tr>\n",
       "      <th>0</th>\n",
       "      <td>109</td>\n",
       "      <td>533352170</td>\n",
       "      <td>60</td>\n",
       "      <td>RL</td>\n",
       "      <td>68.0</td>\n",
       "      <td>13517</td>\n",
       "      <td>Pave</td>\n",
       "      <td>NaN</td>\n",
       "      <td>IR1</td>\n",
       "      <td>Lvl</td>\n",
       "      <td>...</td>\n",
       "      <td>0</td>\n",
       "      <td>0</td>\n",
       "      <td>NaN</td>\n",
       "      <td>NaN</td>\n",
       "      <td>NaN</td>\n",
       "      <td>0</td>\n",
       "      <td>3</td>\n",
       "      <td>2010</td>\n",
       "      <td>WD</td>\n",
       "      <td>130500</td>\n",
       "    </tr>\n",
       "    <tr>\n",
       "      <th>1</th>\n",
       "      <td>544</td>\n",
       "      <td>531379050</td>\n",
       "      <td>60</td>\n",
       "      <td>RL</td>\n",
       "      <td>43.0</td>\n",
       "      <td>11492</td>\n",
       "      <td>Pave</td>\n",
       "      <td>NaN</td>\n",
       "      <td>IR1</td>\n",
       "      <td>Lvl</td>\n",
       "      <td>...</td>\n",
       "      <td>0</td>\n",
       "      <td>0</td>\n",
       "      <td>NaN</td>\n",
       "      <td>NaN</td>\n",
       "      <td>NaN</td>\n",
       "      <td>0</td>\n",
       "      <td>4</td>\n",
       "      <td>2009</td>\n",
       "      <td>WD</td>\n",
       "      <td>220000</td>\n",
       "    </tr>\n",
       "    <tr>\n",
       "      <th>2</th>\n",
       "      <td>153</td>\n",
       "      <td>535304180</td>\n",
       "      <td>20</td>\n",
       "      <td>RL</td>\n",
       "      <td>68.0</td>\n",
       "      <td>7922</td>\n",
       "      <td>Pave</td>\n",
       "      <td>NaN</td>\n",
       "      <td>Reg</td>\n",
       "      <td>Lvl</td>\n",
       "      <td>...</td>\n",
       "      <td>0</td>\n",
       "      <td>0</td>\n",
       "      <td>NaN</td>\n",
       "      <td>NaN</td>\n",
       "      <td>NaN</td>\n",
       "      <td>0</td>\n",
       "      <td>1</td>\n",
       "      <td>2010</td>\n",
       "      <td>WD</td>\n",
       "      <td>109000</td>\n",
       "    </tr>\n",
       "  </tbody>\n",
       "</table>\n",
       "<p>3 rows × 81 columns</p>\n",
       "</div>"
      ],
      "text/plain": [
       "    id        pid  ms_subclass ms_zoning  lot_frontage  lot_area street alley  \\\n",
       "0  109  533352170           60        RL          68.0     13517   Pave   NaN   \n",
       "1  544  531379050           60        RL          43.0     11492   Pave   NaN   \n",
       "2  153  535304180           20        RL          68.0      7922   Pave   NaN   \n",
       "\n",
       "  lot_shape land_contour  ... screen_porch pool_area pool_qc fence  \\\n",
       "0       IR1          Lvl  ...            0         0     NaN   NaN   \n",
       "1       IR1          Lvl  ...            0         0     NaN   NaN   \n",
       "2       Reg          Lvl  ...            0         0     NaN   NaN   \n",
       "\n",
       "  misc_feature misc_val mo_sold yr_sold  sale_type  saleprice  \n",
       "0          NaN        0       3    2010        WD      130500  \n",
       "1          NaN        0       4    2009        WD      220000  \n",
       "2          NaN        0       1    2010        WD      109000  \n",
       "\n",
       "[3 rows x 81 columns]"
      ]
     },
     "execution_count": 4,
     "metadata": {},
     "output_type": "execute_result"
    }
   ],
   "source": [
    "ames.head(3)"
   ]
  },
  {
   "cell_type": "code",
   "execution_count": 5,
   "metadata": {},
   "outputs": [
    {
     "data": {
      "text/html": [
       "<div>\n",
       "<style scoped>\n",
       "    .dataframe tbody tr th:only-of-type {\n",
       "        vertical-align: middle;\n",
       "    }\n",
       "\n",
       "    .dataframe tbody tr th {\n",
       "        vertical-align: top;\n",
       "    }\n",
       "\n",
       "    .dataframe thead th {\n",
       "        text-align: right;\n",
       "    }\n",
       "</style>\n",
       "<table border=\"1\" class=\"dataframe\">\n",
       "  <thead>\n",
       "    <tr style=\"text-align: right;\">\n",
       "      <th></th>\n",
       "      <th>feature</th>\n",
       "      <th>lasso_coefs_pt</th>\n",
       "      <th>lasso_coefs_pt_abs</th>\n",
       "    </tr>\n",
       "  </thead>\n",
       "  <tbody>\n",
       "    <tr>\n",
       "      <th>0</th>\n",
       "      <td>ms_subclass</td>\n",
       "      <td>-0.018468</td>\n",
       "      <td>0.018468</td>\n",
       "    </tr>\n",
       "    <tr>\n",
       "      <th>1</th>\n",
       "      <td>lot_frontage</td>\n",
       "      <td>0.000000</td>\n",
       "      <td>0.000000</td>\n",
       "    </tr>\n",
       "    <tr>\n",
       "      <th>2</th>\n",
       "      <td>lot_area</td>\n",
       "      <td>0.101760</td>\n",
       "      <td>0.101760</td>\n",
       "    </tr>\n",
       "  </tbody>\n",
       "</table>\n",
       "</div>"
      ],
      "text/plain": [
       "        feature  lasso_coefs_pt  lasso_coefs_pt_abs\n",
       "0   ms_subclass       -0.018468            0.018468\n",
       "1  lot_frontage        0.000000            0.000000\n",
       "2      lot_area        0.101760            0.101760"
      ]
     },
     "execution_count": 5,
     "metadata": {},
     "output_type": "execute_result"
    }
   ],
   "source": [
    "coefs.head(3)"
   ]
  },
  {
   "cell_type": "markdown",
   "metadata": {},
   "source": [
    "### Preprocessing\n",
    "---"
   ]
  },
  {
   "cell_type": "code",
   "execution_count": 28,
   "metadata": {},
   "outputs": [],
   "source": [
    "ames_corr = ames.corr()[\"saleprice\"]"
   ]
  },
  {
   "cell_type": "code",
   "execution_count": 29,
   "metadata": {},
   "outputs": [
    {
     "data": {
      "text/plain": [
       "0"
      ]
     },
     "execution_count": 29,
     "metadata": {},
     "output_type": "execute_result"
    }
   ],
   "source": [
    "features = ames_corr[ames_corr != 1.0].index\n",
    "\n",
    "# These \"features\" are not actually descriptors of the houses\n",
    "features = features.drop([\"pid\", \"id\"])\n",
    "\n",
    "ames[features].isna().sum().sum()"
   ]
  },
  {
   "cell_type": "code",
   "execution_count": 30,
   "metadata": {},
   "outputs": [],
   "source": [
    "X = ames[features]\n",
    "y = ames[\"saleprice\"]"
   ]
  },
  {
   "cell_type": "code",
   "execution_count": 31,
   "metadata": {},
   "outputs": [],
   "source": [
    "X_train, X_test, y_train, y_test = train_test_split(X, \n",
    "                                                    y, \n",
    "                                                    random_state = 35, \n",
    "                                                    test_size = 0.25)"
   ]
  },
  {
   "cell_type": "code",
   "execution_count": 32,
   "metadata": {},
   "outputs": [
    {
     "name": "stderr",
     "output_type": "stream",
     "text": [
      "/anaconda3/lib/python3.6/site-packages/numpy/core/_methods.py:121: RuntimeWarning: overflow encountered in multiply\n",
      "  x = um.multiply(x, x, out=x)\n"
     ]
    }
   ],
   "source": [
    "pt_X = PowerTransformer()\n",
    "pt_X.fit(X_train)\n",
    "X_train = pt_X.transform(X_train)\n",
    "X_test = pt_X.transform(X_test)\n",
    "\n",
    "pt_Y = PowerTransformer()\n",
    "pt_Y.fit(y_train.to_frame())\n",
    "y_train = pt_Y.transform(y_train.to_frame())\n",
    "y_test = pt_Y.transform(y_test.to_frame())"
   ]
  },
  {
   "cell_type": "code",
   "execution_count": 33,
   "metadata": {},
   "outputs": [],
   "source": [
    "# Scaling the data\n",
    "\n",
    "ss = StandardScaler()\n",
    "\n",
    "ss.fit(X_train)\n",
    "\n",
    "X_train_scaled = ss.transform(X_train)\n",
    "X_test_scaled = ss.transform(X_test)"
   ]
  },
  {
   "cell_type": "code",
   "execution_count": 37,
   "metadata": {},
   "outputs": [
    {
     "name": "stderr",
     "output_type": "stream",
     "text": [
      "/anaconda3/lib/python3.6/site-packages/sklearn/linear_model/coordinate_descent.py:1109: DataConversionWarning: A column-vector y was passed when a 1d array was expected. Please change the shape of y to (n_samples, ), for example using ravel().\n",
      "  y = column_or_1d(y, warn=True)\n"
     ]
    },
    {
     "data": {
      "text/plain": [
       "0.8920270573785805"
      ]
     },
     "execution_count": 37,
     "metadata": {},
     "output_type": "execute_result"
    }
   ],
   "source": [
    "lasso = LassoCV(cv = 5)\n",
    "lasso = lasso.fit(X_train_scaled, y_train)\n",
    "\n",
    "lasso_model = Lasso(alpha = lasso.alpha_)\n",
    "lasso_model = lasso_model.fit(X_train_scaled, y_train)\n",
    "\n",
    "lasso_model.score(X_train_scaled, y_train)"
   ]
  },
  {
   "cell_type": "code",
   "execution_count": 38,
   "metadata": {},
   "outputs": [
    {
     "data": {
      "text/plain": [
       "0.8920270573785805"
      ]
     },
     "execution_count": 38,
     "metadata": {},
     "output_type": "execute_result"
    }
   ],
   "source": [
    "lasso_model.score(X_train_scaled, y_train)"
   ]
  },
  {
   "cell_type": "code",
   "execution_count": 39,
   "metadata": {},
   "outputs": [
    {
     "data": {
      "text/plain": [
       "0.8772332990546344"
      ]
     },
     "execution_count": 39,
     "metadata": {},
     "output_type": "execute_result"
    }
   ],
   "source": [
    "lasso_model.score(X_test_scaled, y_test)"
   ]
  },
  {
   "cell_type": "raw",
   "metadata": {},
   "source": []
  },
  {
   "cell_type": "markdown",
   "metadata": {},
   "source": [
    "<a id = \"linear\"></a>\n",
    "### First Model, Linear Regression\n",
    "---\n",
    "\n",
    "This first model does not use the scaled data, instead focusing on interpretability of coefficients.\n",
    "\n",
    "- [Back to top](#top)"
   ]
  },
  {
   "cell_type": "code",
   "execution_count": null,
   "metadata": {},
   "outputs": [],
   "source": [
    "lr = LinearRegression()\n",
    "\n",
    "lr.fit(X_train, y_train)\n",
    "\n",
    "lr.score(X_train, y_train)"
   ]
  },
  {
   "cell_type": "code",
   "execution_count": null,
   "metadata": {},
   "outputs": [],
   "source": [
    "cross_val_score(lr, X_train, y_train, cv = 5).mean()"
   ]
  },
  {
   "cell_type": "code",
   "execution_count": null,
   "metadata": {},
   "outputs": [],
   "source": [
    "lr.score(X_test, y_test)"
   ]
  },
  {
   "cell_type": "code",
   "execution_count": null,
   "metadata": {},
   "outputs": [],
   "source": [
    "cross_val_score(lr, X_test, y_test, cv = 5).mean()"
   ]
  },
  {
   "cell_type": "code",
   "execution_count": null,
   "metadata": {},
   "outputs": [],
   "source": [
    "lr.coef_"
   ]
  },
  {
   "cell_type": "markdown",
   "metadata": {},
   "source": [
    "<a id = \"lasso\"></a>\n",
    "### Second Model, Lasso Regression\n",
    "---\n",
    "\n",
    "\n",
    "\n",
    "- [Back to top](#top)"
   ]
  },
  {
   "cell_type": "code",
   "execution_count": null,
   "metadata": {},
   "outputs": [],
   "source": [
    "# Lasso regression\n",
    "\n",
    "lasso = LassoCV(cv = 5)\n",
    "lasso = lasso.fit(X_train_scaled, y_train)\n",
    "\n",
    "lasso_model = Lasso(alpha = lasso.alpha_)\n",
    "lasso_model.fit(X_train_scaled, y_train)\n",
    "\n",
    "lasso_model.score(X_train_scaled, y_train)"
   ]
  },
  {
   "cell_type": "code",
   "execution_count": null,
   "metadata": {},
   "outputs": [],
   "source": [
    "lasso.alpha_"
   ]
  },
  {
   "cell_type": "code",
   "execution_count": null,
   "metadata": {},
   "outputs": [],
   "source": [
    "cross_val_score(lasso_model, X_train_scaled, y_train, cv = 5).mean()"
   ]
  },
  {
   "cell_type": "code",
   "execution_count": null,
   "metadata": {},
   "outputs": [],
   "source": [
    "lasso_model.score(X_test_scaled, y_test)"
   ]
  },
  {
   "cell_type": "code",
   "execution_count": null,
   "metadata": {},
   "outputs": [],
   "source": [
    "cross_val_score(lr, X_test_scaled, y_test, cv = 5).mean()"
   ]
  },
  {
   "cell_type": "code",
   "execution_count": null,
   "metadata": {},
   "outputs": [],
   "source": [
    "lasso_model.coef_"
   ]
  },
  {
   "cell_type": "code",
   "execution_count": null,
   "metadata": {},
   "outputs": [],
   "source": [
    "ridge = RidgeCV(alphas = np.logspace(0, 5, 100), cv = 5)\n",
    "ridge = ridge.fit(X_train_scaled, y_train)\n",
    "\n",
    "ridge.alpha_"
   ]
  },
  {
   "cell_type": "code",
   "execution_count": null,
   "metadata": {},
   "outputs": [],
   "source": [
    "ridge_model = Ridge(alpha = ridge.alpha_)\n",
    "\n",
    "ridge_model.fit(X_train_scaled, y_train)"
   ]
  },
  {
   "cell_type": "code",
   "execution_count": null,
   "metadata": {},
   "outputs": [],
   "source": [
    "ridge_model.score(X_train_scaled, y_train)"
   ]
  },
  {
   "cell_type": "code",
   "execution_count": null,
   "metadata": {},
   "outputs": [],
   "source": [
    "ridge_model.coef_"
   ]
  },
  {
   "cell_type": "code",
   "execution_count": null,
   "metadata": {},
   "outputs": [],
   "source": [
    "# import math \n",
    "\n",
    "# # difference of lasso and ridge regression is that some of the coefficients \n",
    "# # can be zero i.e. some of the features are completely neglected\n",
    "\n",
    "# from sklearn.datasets import load_breast_cancer\n",
    "\n",
    "# cancer = load_breast_cancer()\n",
    "# #print cancer.keys()\n",
    "# cancer_df = pd.DataFrame(cancer.data, columns=cancer.feature_names)\n",
    "# #print cancer_df.head(3)\n",
    "# X = ames[features]\n",
    "# Y = ames[\"saleprice\"]\n",
    "\n",
    "\n",
    "\n",
    "\n",
    "# X_train,X_test,y_train,y_test=train_test_split(X,Y, test_size=0.3, random_state=31)\n",
    "\n",
    "# lasso = Lasso()\n",
    "# lasso.fit(X_train,y_train)\n",
    "# train_score=lasso.score(X_train,y_train)\n",
    "# test_score=lasso.score(X_test,y_test)\n",
    "# coeff_used = np.sum(lasso.coef_!=0)\n",
    "\n",
    "# lasso001 = Lasso(alpha=0.01, max_iter=10e5)\n",
    "# lasso001.fit(X_train,y_train)\n",
    "# train_score001=lasso001.score(X_train,y_train)\n",
    "# test_score001=lasso001.score(X_test,y_test)\n",
    "# coeff_used001 = np.sum(lasso001.coef_!=0)\n",
    "\n",
    "# lasso00001 = Lasso(alpha=0.0001, max_iter=10e5)\n",
    "# lasso00001.fit(X_train,y_train)\n",
    "# train_score00001=lasso00001.score(X_train,y_train)\n",
    "# test_score00001=lasso00001.score(X_test,y_test)\n",
    "# coeff_used00001 = np.sum(lasso00001.coef_!=0)\n",
    "\n",
    "# lr = LinearRegression()\n",
    "# lr.fit(X_train,y_train)\n",
    "# lr_train_score=lr.score(X_train,y_train)\n",
    "# lr_test_score=lr.score(X_test,y_test)\n",
    "\n",
    "# plt.figure(figsize = (12, 6))\n",
    "\n",
    "# plt.subplot(1,2,1)\n",
    "# plt.plot(lasso.coef_, \n",
    "#          alpha=0.7,\n",
    "#          linestyle='none',\n",
    "#          marker='*',\n",
    "#          markersize=5,\n",
    "#          color='red',\n",
    "#          label=r'Lasso; $\\alpha = 1$',\n",
    "#          zorder=7) # alpha here is for transparency\n",
    "\n",
    "# plt.plot(lasso001.coef_,\n",
    "#          alpha=0.5,\n",
    "#          linestyle='none',\n",
    "#          marker='d',\n",
    "#          markersize=6,\n",
    "#          color='blue',\n",
    "#          label=r'Lasso; $\\alpha = 0.01$') # alpha here is for transparency\n",
    "\n",
    "# plt.xlabel('Coefficient Index',fontsize=16)\n",
    "# plt.ylabel('Coefficient Magnitude',fontsize=16)\n",
    "# plt.legend(fontsize=13,loc=1)\n",
    "\n",
    "\n",
    "\n",
    "# plt.subplot(1,2,2)\n",
    "\n",
    "# plt.plot(lasso.coef_,\n",
    "#          alpha=0.7,\n",
    "#          linestyle='none',\n",
    "#          marker='*',\n",
    "#          markersize=5,\n",
    "#          color='red',\n",
    "#          label=r'Lasso; $\\alpha = 1$',\n",
    "#          zorder=7) # alpha here is for transparency\n",
    "\n",
    "# plt.plot(lasso001.coef_,\n",
    "#          alpha=0.5,\n",
    "#          linestyle='none',\n",
    "#          marker='d',\n",
    "#          markersize=6,\n",
    "#          color='blue',\n",
    "#          label=r'Lasso; $\\alpha = 0.01$') # alpha here is for transparency\n",
    "\n",
    "# plt.plot(lasso00001.coef_,\n",
    "#          alpha=0.8,\n",
    "#          linestyle='none',\n",
    "#          marker='v',\n",
    "#          markersize=6,\n",
    "#          color='black',\n",
    "#          label=r'Lasso; $\\alpha = 0.00001$') # alpha here is for transparency\n",
    "\n",
    "# plt.plot(lr.coef_,\n",
    "#          alpha=0.7,\n",
    "#          linestyle='none',\n",
    "#          marker='o',\n",
    "#          markersize=5,\n",
    "#          color='green',\n",
    "#          label='Linear Regression',\n",
    "#          zorder=2)\n",
    "\n",
    "# plt.xlabel('Coefficient Index',fontsize=16)\n",
    "# plt.ylabel('Coefficient Magnitude',fontsize=16)\n",
    "# plt.legend(fontsize=13,loc=1)\n",
    "# plt.tight_layout();"
   ]
  },
  {
   "cell_type": "code",
   "execution_count": null,
   "metadata": {},
   "outputs": [],
   "source": [
    "plt.figure(figsize = (8,8))\n",
    "for a in (1000, 0):\n",
    "    lasso_model = Lasso(alpha = a)\n",
    "    lasso_model.fit(X_train_scaled, y_train)\n",
    "    plt.plot(lasso_model.coef_,\n",
    "         linestyle = \"none\",\n",
    "         marker = \"*\",\n",
    "         markersize = 10\n",
    "        )\n",
    "    \n",
    "plt.plot(lr.coef_,\n",
    "         linestyle = \"none\",\n",
    "         marker = \".\",\n",
    "         markersize = 10\n",
    "        )"
   ]
  },
  {
   "cell_type": "code",
   "execution_count": null,
   "metadata": {},
   "outputs": [],
   "source": [
    "plt.figure(figsize = (8,8))\n",
    "plt.plot(lr.coef_,\n",
    "         linestyle = \"none\",\n",
    "         marker = \".\",\n",
    "         markersize = 10\n",
    "        )\n",
    "\n",
    "plt.plot(ridge_model.coef_,\n",
    "         linestyle = \"none\",\n",
    "         marker = \"*\",\n",
    "         markersize = 10\n",
    "        )"
   ]
  },
  {
   "cell_type": "code",
   "execution_count": null,
   "metadata": {},
   "outputs": [],
   "source": [
    "plt.figure(figsize = (8,8))\n",
    "plt.plot(ridge_model.coef_,\n",
    "         linestyle = \"none\",\n",
    "         marker = \".\",\n",
    "         markersize = 10\n",
    "        )\n",
    "\n",
    "plt.plot(lasso_model.coef_,\n",
    "         linestyle = \"none\",\n",
    "         marker = \"*\",\n",
    "         markersize = 10\n",
    "        )\n",
    "\n",
    "plt.plot(lr.coef_,\n",
    "         linestyle = \"none\",\n",
    "         marker = \".\",\n",
    "         markersize = 10\n",
    "        )"
   ]
  },
  {
   "cell_type": "code",
   "execution_count": null,
   "metadata": {},
   "outputs": [],
   "source": [
    "plt.figure(figsize = (8,8))\n",
    "plt.plot(lasso_model.coef_,\n",
    "         linestyle = \"none\",\n",
    "         marker = \".\",\n",
    "         markersize = 10\n",
    "        )"
   ]
  },
  {
   "cell_type": "code",
   "execution_count": null,
   "metadata": {},
   "outputs": [],
   "source": [
    "plt.figure(figsize = (8,8))\n",
    "plt.plot(coefs[\"lasso_coefs_pt\"],\n",
    "         linestyle = \"none\",\n",
    "         marker = \".\",\n",
    "         markersize = 10\n",
    "        )"
   ]
  },
  {
   "cell_type": "markdown",
   "metadata": {},
   "source": [
    "---\n",
    "- [Back to top](#top)"
   ]
  }
 ],
 "metadata": {
  "kernelspec": {
   "display_name": "Python 3",
   "language": "python",
   "name": "python3"
  },
  "language_info": {
   "codemirror_mode": {
    "name": "ipython",
    "version": 3
   },
   "file_extension": ".py",
   "mimetype": "text/x-python",
   "name": "python",
   "nbconvert_exporter": "python",
   "pygments_lexer": "ipython3",
   "version": "3.6.8"
  }
 },
 "nbformat": 4,
 "nbformat_minor": 2
}
